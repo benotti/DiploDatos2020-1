{
 "cells": [
  {
   "cell_type": "markdown",
   "metadata": {},
   "source": [
    "# MENTORÍA: Predicción de indicadores sociales para países del MERCOSUR"
   ]
  },
  {
   "cell_type": "markdown",
   "metadata": {},
   "source": [
    "## Práctico 3: Introducción a ML - Aprendizaje Supervisado\n",
    "\n",
    "[Link a la descripción del proyecto](https://github.com/jfrau/DiploDatos2020/blob/master/README.md)"
   ]
  },
  {
   "cell_type": "markdown",
   "metadata": {},
   "source": [
    "### Introducción"
   ]
  },
  {
   "cell_type": "markdown",
   "metadata": {},
   "source": [
    "En este práctico se buscará trabajar el problema de series temporales multivariadas de esta mentoría desde el punto de vista de los algoritmos base de machine learning y Aprendizaje Supervisado. \n",
    "\n",
    "Sobre la base de que existen modelos específicamente diseñados para datos en forma de series temporales (los cuales escapan al alcance de los contenidos de la Diplomatura) y que tienen un desempeño bastante robusto, en este práctico nos centraremos no tanto en los resultados de los modelos base sino más bien implementar técnicas y estrategias usuales al momento de atacar problemas y que son bastante comunes en la vida diaria de un Científico de datos.\n",
    "\n",
    "Estas estrategias se relacionan con:\n",
    "\n",
    "- Construcción de features.\n",
    "- Codificación de variables categóricas.\n",
    "- Redefinición de un problema.\n",
    "- Implementación y seguimiento de diferentes modelos.\n",
    "- Análisis de resultados en base a los algoritmos utilizados y la cantidad de datos disponibles.\n"
   ]
  },
  {
   "cell_type": "markdown",
   "metadata": {},
   "source": [
    "### Metodología de trabajo"
   ]
  },
  {
   "cell_type": "markdown",
   "metadata": {},
   "source": [
    "En este práctico se disponibilizan datos de **BRASIL, URUGUAY y PARAGUAY** para algunos indicadores y algunos features en la franja temporal 1990-2018. Los mismos ya fueron curados, con lo cual no contienen ningún dato faltante o no nulo. Este proceso de curación se llevó a cabo teniendo en cuenta features compartidos con ARGENTINA (de la lista resultante del práctico anterior), de manera tal de poder realizar una suerte de \"unión\" entre los datos.\n",
    "\n",
    "#### Propuesta\n",
    "\n",
    "Intentar explicar la variable **Índice de Gini** perteneciente al Indicador Pobreza (planteada como una columna target) utilizando las siguientes variables:\n",
    "\n",
    "- **Brecha de pobreza a 1,90 por día (2011 PPA)**\t(Indicador Pobreza)\n",
    "- **Tasa de incidencia de la pobreza, sobre la base de 1,90 por día (2011 PPA) (% de la población)** (Indicador Pobreza)\n",
    "- **Desempleo, total (% de participación total en la fuerza laboral) (estimación nacional)** (Indicador Protección Social)\n",
    "- **Población activa, total** (Indicador Educación)\n",
    "- **País** (Argentina, Brasil, Uruguay y Paraguay)\n",
    "- **Año** (Franja temporal 1990-2018)\n",
    "\n",
    "\n",
    "La propuesta se realiza en base a la posible relación o influencia de las variables de la lista anterior con el Índice de Gini (que intenta representar la inequidad social). Es importante mencionar que dicha elección tiene en cuenta además lo acotado de las bases de datos luego del proceso de curación. \n",
    "\n",
    "Sin embargo, dentro de los datasets que se disponibilizan existen otras variables que podrían eventualmente reemplazar a alguna de la lista o incluso a la variable target (siempre que exista una lógica en ello). *Esta es la razón por la que se plantea esta propuesta inicial, la cual puede ser modificada de acuerdo a posibles evaluaciones o decisiones del grupo.*"
   ]
  },
  {
   "cell_type": "markdown",
   "metadata": {},
   "source": [
    "#### Consideración importante"
   ]
  },
  {
   "cell_type": "markdown",
   "metadata": {},
   "source": [
    "Como se observará más abajo el dataset que se construye contiene 28x4 (112) filas (28 años en  países sobre 4 países ) y un total de 9 columnas (sin contar la columna target) que desde el punto de vista de modelos de machine learning (sobretodo los más complejos) es considerada poca data.  Aconsejo revisar estos atículos sobre los grados de libertad en modelos de machine learning: [post1](https://machinelearningmastery.com/degrees-of-freedom-in-machine-learning/#:~:text=In%20machine%20learning%2C%20the%20degrees,a%20deep%20learning%20neural%20network.&text=In%20statistics%2C%20degrees%20of%20freedom,used%20to%20calculate%20a%20statistic.), [post2](https://discuss.analyticsvidhya.com/t/significance-of-degree-of-freedom/9127) para profundizar este tema. Esto significa que **agregar más variables y mantener solo 4 países NO es una opción**, a menos que sume otro país."
   ]
  },
  {
   "cell_type": "markdown",
   "metadata": {},
   "source": [
    "## Preprocesamiento de los datos"
   ]
  },
  {
   "cell_type": "code",
   "execution_count": 11,
   "metadata": {
    "scrolled": true
   },
   "outputs": [
    {
     "name": "stderr",
     "output_type": "stream",
     "text": [
      "/home/jfrau/anaconda3/lib/python3.7/site-packages/ipykernel_launcher.py:2: FutureWarning: Passing a negative integer is deprecated in version 1.0 and will not be supported in future version. Instead, use None to not limit the column width.\n",
      "  \n"
     ]
    }
   ],
   "source": [
    "import pandas as pd\n",
    "pd.set_option('display.max_colwidth', -1)"
   ]
  },
  {
   "cell_type": "markdown",
   "metadata": {},
   "source": [
    "### Carga de datos"
   ]
  },
  {
   "cell_type": "code",
   "execution_count": 12,
   "metadata": {},
   "outputs": [],
   "source": [
    "# Datasets pobreza\n",
    "pobreza_BRA_1990_2018 = pd.read_csv('pobreza_BRA_1990_2018.csv')\n",
    "pobreza_URU_1990_2018 = pd.read_csv('pobreza_URU_1990_2018.csv')\n",
    "pobreza_PAR_1990_2018 = pd.read_csv('pobreza_PAR_1990_2018.csv')\n"
   ]
  },
  {
   "cell_type": "code",
   "execution_count": 13,
   "metadata": {},
   "outputs": [],
   "source": [
    "# Datasets protección social\n",
    "proteccionsocial_BRA_1990_2018 = pd.read_csv('proteccionsocial_BRA_1990_2018.csv')\n",
    "proteccionsocial_URU_1990_2018 = pd.read_csv('proteccionsocial_URU_1990_2018.csv')\n",
    "proteccionsocial_PAR_1990_2018 = pd.read_csv('proteccionsocial_PAR_1990_2018.csv')"
   ]
  },
  {
   "cell_type": "code",
   "execution_count": 14,
   "metadata": {},
   "outputs": [],
   "source": [
    "# Datasets educación\n",
    "educacion_BRA_1990_2018 = pd.read_csv('educacion_BRA_1990_2018.csv')\n",
    "educacion_URU_1990_2018 = pd.read_csv('educacion_URU_1990_2018.csv')\n",
    "educacion_PAR_1990_2018 = pd.read_csv('educacion_PAR_1990_2018.csv')"
   ]
  },
  {
   "cell_type": "markdown",
   "metadata": {},
   "source": [
    "### Filtro por indicadores"
   ]
  },
  {
   "cell_type": "markdown",
   "metadata": {},
   "source": [
    "#### Pobreza"
   ]
  },
  {
   "cell_type": "code",
   "execution_count": 15,
   "metadata": {},
   "outputs": [
    {
     "data": {
      "text/plain": [
       "['SI.POV.GINI', 'SI.POV.GAPS', 'SI.POV.DDAY']"
      ]
     },
     "execution_count": 15,
     "metadata": {},
     "output_type": "execute_result"
    }
   ],
   "source": [
    "codigos_indicadores_pobreza = ['SI.POV.GINI','SI.POV.GAPS','SI.POV.DDAY']\n",
    "codigos_indicadores_pobreza"
   ]
  },
  {
   "cell_type": "code",
   "execution_count": 16,
   "metadata": {},
   "outputs": [],
   "source": [
    "pobreza_BRA = pobreza_BRA_1990_2018[pobreza_BRA_1990_2018['Indicator Code'].isin(codigos_indicadores_pobreza)]\n",
    "pobreza_URU = pobreza_URU_1990_2018[pobreza_URU_1990_2018['Indicator Code'].isin(codigos_indicadores_pobreza)]\n",
    "pobreza_PAR = pobreza_PAR_1990_2018[pobreza_PAR_1990_2018['Indicator Code'].isin(codigos_indicadores_pobreza)]"
   ]
  },
  {
   "cell_type": "code",
   "execution_count": 17,
   "metadata": {},
   "outputs": [
    {
     "data": {
      "text/plain": [
       "array(['Índice de Gini',\n",
       "       'Brecha de pobreza a $1,90 por día (2011 PPA) (%)',\n",
       "       'Tasa de incidencia de la pobreza, sobre la base de $1,90 por día (2011 PPA) (% de la población)'],\n",
       "      dtype=object)"
      ]
     },
     "execution_count": 17,
     "metadata": {},
     "output_type": "execute_result"
    }
   ],
   "source": [
    "pobreza_PAR['Indicator Name'].unique()"
   ]
  },
  {
   "cell_type": "markdown",
   "metadata": {},
   "source": [
    "#### Protección Social"
   ]
  },
  {
   "cell_type": "code",
   "execution_count": 18,
   "metadata": {
    "scrolled": true
   },
   "outputs": [
    {
     "data": {
      "text/plain": [
       "['SL.UEM.TOTL.NE.ZS', 'SL.TLF.CACT.FM.ZS', 'SL.TLF.CACT.FM.NE.ZS']"
      ]
     },
     "execution_count": 18,
     "metadata": {},
     "output_type": "execute_result"
    }
   ],
   "source": [
    "codigos_indicadores_proteccionsocial = ['SL.UEM.TOTL.NE.ZS','SL.TLF.CACT.FM.ZS','SL.TLF.CACT.FM.NE.ZS']\n",
    "codigos_indicadores_proteccionsocial"
   ]
  },
  {
   "cell_type": "code",
   "execution_count": 19,
   "metadata": {},
   "outputs": [],
   "source": [
    "proteccionsocial_BRA = proteccionsocial_BRA_1990_2018[proteccionsocial_BRA_1990_2018['Indicator Code'].isin(codigos_indicadores_proteccionsocial)]\n",
    "proteccionsocial_URU = proteccionsocial_URU_1990_2018[proteccionsocial_URU_1990_2018['Indicator Code'].isin(codigos_indicadores_proteccionsocial)]\n",
    "proteccionsocial_PAR = proteccionsocial_PAR_1990_2018[proteccionsocial_PAR_1990_2018['Indicator Code'].isin(codigos_indicadores_proteccionsocial)]"
   ]
  },
  {
   "cell_type": "code",
   "execution_count": 20,
   "metadata": {},
   "outputs": [
    {
     "data": {
      "text/plain": [
       "array(['Desempleo, total (% de participación total en la fuerza laboral) (estimación nacional)',\n",
       "       'Proporcin de tasas de participacin laboral femenina y masculina (%) (estimación modelado OIT)',\n",
       "       'Proporción de participación en la fuerza laboral de mujeres y varones (%) (estimación nacional)'],\n",
       "      dtype=object)"
      ]
     },
     "execution_count": 20,
     "metadata": {},
     "output_type": "execute_result"
    }
   ],
   "source": [
    "proteccionsocial_BRA['Indicator Name'].unique()"
   ]
  },
  {
   "cell_type": "code",
   "execution_count": 21,
   "metadata": {},
   "outputs": [
    {
     "data": {
      "text/html": [
       "<div>\n",
       "<style scoped>\n",
       "    .dataframe tbody tr th:only-of-type {\n",
       "        vertical-align: middle;\n",
       "    }\n",
       "\n",
       "    .dataframe tbody tr th {\n",
       "        vertical-align: top;\n",
       "    }\n",
       "\n",
       "    .dataframe thead th {\n",
       "        text-align: right;\n",
       "    }\n",
       "</style>\n",
       "<table border=\"1\" class=\"dataframe\">\n",
       "  <thead>\n",
       "    <tr style=\"text-align: right;\">\n",
       "      <th></th>\n",
       "      <th>Country Name</th>\n",
       "      <th>Country Code</th>\n",
       "      <th>Indicator Name</th>\n",
       "      <th>Indicator Code</th>\n",
       "      <th>1990.0</th>\n",
       "      <th>1991.0</th>\n",
       "      <th>1992.0</th>\n",
       "      <th>1993.0</th>\n",
       "      <th>1994.0</th>\n",
       "      <th>1995.0</th>\n",
       "      <th>...</th>\n",
       "      <th>2009.0</th>\n",
       "      <th>2010.0</th>\n",
       "      <th>2011.0</th>\n",
       "      <th>2012.0</th>\n",
       "      <th>2013.0</th>\n",
       "      <th>2014.0</th>\n",
       "      <th>2015.0</th>\n",
       "      <th>2016.0</th>\n",
       "      <th>2017.0</th>\n",
       "      <th>2018.0</th>\n",
       "    </tr>\n",
       "  </thead>\n",
       "  <tbody>\n",
       "    <tr>\n",
       "      <th>0</th>\n",
       "      <td>Brasil</td>\n",
       "      <td>BRA</td>\n",
       "      <td>Desempleo, total (% de participación total en la fuerza laboral) (estimación nacional)</td>\n",
       "      <td>SL.UEM.TOTL.NE.ZS</td>\n",
       "      <td>3.690000</td>\n",
       "      <td>5.055000</td>\n",
       "      <td>6.420000</td>\n",
       "      <td>6.030000</td>\n",
       "      <td>6.225250</td>\n",
       "      <td>6.420500</td>\n",
       "      <td>...</td>\n",
       "      <td>8.522100</td>\n",
       "      <td>7.719550</td>\n",
       "      <td>6.917000</td>\n",
       "      <td>7.185700</td>\n",
       "      <td>6.976400</td>\n",
       "      <td>6.661200</td>\n",
       "      <td>8.426700</td>\n",
       "      <td>11.599900</td>\n",
       "      <td>12.822400</td>\n",
       "      <td>12.333800</td>\n",
       "    </tr>\n",
       "    <tr>\n",
       "      <th>5</th>\n",
       "      <td>Brasil</td>\n",
       "      <td>BRA</td>\n",
       "      <td>Proporcin de tasas de participacin laboral femenina y masculina (%) (estimación modelado OIT)</td>\n",
       "      <td>SL.TLF.CACT.FM.ZS</td>\n",
       "      <td>50.196931</td>\n",
       "      <td>50.499762</td>\n",
       "      <td>52.370154</td>\n",
       "      <td>54.279407</td>\n",
       "      <td>56.223705</td>\n",
       "      <td>58.200648</td>\n",
       "      <td>...</td>\n",
       "      <td>71.002781</td>\n",
       "      <td>69.959603</td>\n",
       "      <td>68.908161</td>\n",
       "      <td>69.641806</td>\n",
       "      <td>69.637640</td>\n",
       "      <td>69.893991</td>\n",
       "      <td>70.804848</td>\n",
       "      <td>71.184286</td>\n",
       "      <td>72.654804</td>\n",
       "      <td>73.180848</td>\n",
       "    </tr>\n",
       "    <tr>\n",
       "      <th>6</th>\n",
       "      <td>Brasil</td>\n",
       "      <td>BRA</td>\n",
       "      <td>Proporción de participación en la fuerza laboral de mujeres y varones (%) (estimación nacional)</td>\n",
       "      <td>SL.TLF.CACT.FM.NE.ZS</td>\n",
       "      <td>52.051556</td>\n",
       "      <td>52.051556</td>\n",
       "      <td>61.589794</td>\n",
       "      <td>61.858219</td>\n",
       "      <td>60.583450</td>\n",
       "      <td>59.308681</td>\n",
       "      <td>...</td>\n",
       "      <td>71.893508</td>\n",
       "      <td>70.935170</td>\n",
       "      <td>69.976833</td>\n",
       "      <td>69.410888</td>\n",
       "      <td>69.333404</td>\n",
       "      <td>69.637027</td>\n",
       "      <td>70.603539</td>\n",
       "      <td>70.852825</td>\n",
       "      <td>72.463443</td>\n",
       "      <td>73.006388</td>\n",
       "    </tr>\n",
       "  </tbody>\n",
       "</table>\n",
       "<p>3 rows × 33 columns</p>\n",
       "</div>"
      ],
      "text/plain": [
       "  Country Name Country Code  \\\n",
       "0  Brasil       BRA           \n",
       "5  Brasil       BRA           \n",
       "6  Brasil       BRA           \n",
       "\n",
       "                                                                                    Indicator Name  \\\n",
       "0  Desempleo, total (% de participación total en la fuerza laboral) (estimación nacional)            \n",
       "5  Proporcin de tasas de participacin laboral femenina y masculina (%) (estimación modelado OIT)     \n",
       "6  Proporción de participación en la fuerza laboral de mujeres y varones (%) (estimación nacional)   \n",
       "\n",
       "         Indicator Code     1990.0     1991.0     1992.0     1993.0  \\\n",
       "0  SL.UEM.TOTL.NE.ZS     3.690000   5.055000   6.420000   6.030000    \n",
       "5  SL.TLF.CACT.FM.ZS     50.196931  50.499762  52.370154  54.279407   \n",
       "6  SL.TLF.CACT.FM.NE.ZS  52.051556  52.051556  61.589794  61.858219   \n",
       "\n",
       "      1994.0     1995.0  ...     2009.0     2010.0     2011.0     2012.0  \\\n",
       "0  6.225250   6.420500   ...  8.522100   7.719550   6.917000   7.185700    \n",
       "5  56.223705  58.200648  ...  71.002781  69.959603  68.908161  69.641806   \n",
       "6  60.583450  59.308681  ...  71.893508  70.935170  69.976833  69.410888   \n",
       "\n",
       "      2013.0     2014.0     2015.0     2016.0     2017.0     2018.0  \n",
       "0  6.976400   6.661200   8.426700   11.599900  12.822400  12.333800  \n",
       "5  69.637640  69.893991  70.804848  71.184286  72.654804  73.180848  \n",
       "6  69.333404  69.637027  70.603539  70.852825  72.463443  73.006388  \n",
       "\n",
       "[3 rows x 33 columns]"
      ]
     },
     "execution_count": 21,
     "metadata": {},
     "output_type": "execute_result"
    }
   ],
   "source": [
    "proteccionsocial_BRA"
   ]
  },
  {
   "cell_type": "markdown",
   "metadata": {},
   "source": [
    "#### Educación"
   ]
  },
  {
   "cell_type": "code",
   "execution_count": 22,
   "metadata": {},
   "outputs": [
    {
     "data": {
      "text/plain": [
       "['SL.TLF.TOTL.IN', 'SE.SEC.ENRL.GC', 'SE.PRM.CMPT.ZS']"
      ]
     },
     "execution_count": 22,
     "metadata": {},
     "output_type": "execute_result"
    }
   ],
   "source": [
    "codigos_indicadores_educacion = ['SL.TLF.TOTL.IN','SE.SEC.ENRL.GC','SE.PRM.CMPT.ZS']\n",
    "codigos_indicadores_educacion"
   ]
  },
  {
   "cell_type": "code",
   "execution_count": 23,
   "metadata": {},
   "outputs": [],
   "source": [
    "educacion_BRA = educacion_BRA_1990_2018[educacion_BRA_1990_2018['Indicator Code'].isin(codigos_indicadores_educacion)]\n",
    "educacion_URU = educacion_URU_1990_2018[educacion_URU_1990_2018['Indicator Code'].isin(codigos_indicadores_educacion)]\n",
    "educacion_PAR = educacion_PAR_1990_2018[educacion_PAR_1990_2018['Indicator Code'].isin(codigos_indicadores_educacion)]"
   ]
  },
  {
   "cell_type": "code",
   "execution_count": 24,
   "metadata": {
    "scrolled": false
   },
   "outputs": [
    {
     "data": {
      "text/plain": [
       "array(['Población activa, total',\n",
       "       'Educación de nivel secundario, alumnos en programas de educación general'],\n",
       "      dtype=object)"
      ]
     },
     "execution_count": 24,
     "metadata": {},
     "output_type": "execute_result"
    }
   ],
   "source": [
    "educacion_BRA['Indicator Name'].unique()"
   ]
  },
  {
   "cell_type": "code",
   "execution_count": 25,
   "metadata": {},
   "outputs": [
    {
     "data": {
      "text/html": [
       "<div>\n",
       "<style scoped>\n",
       "    .dataframe tbody tr th:only-of-type {\n",
       "        vertical-align: middle;\n",
       "    }\n",
       "\n",
       "    .dataframe tbody tr th {\n",
       "        vertical-align: top;\n",
       "    }\n",
       "\n",
       "    .dataframe thead th {\n",
       "        text-align: right;\n",
       "    }\n",
       "</style>\n",
       "<table border=\"1\" class=\"dataframe\">\n",
       "  <thead>\n",
       "    <tr style=\"text-align: right;\">\n",
       "      <th></th>\n",
       "      <th>Country Name</th>\n",
       "      <th>Country Code</th>\n",
       "      <th>Indicator Name</th>\n",
       "      <th>Indicator Code</th>\n",
       "      <th>1990.0</th>\n",
       "      <th>1991.0</th>\n",
       "      <th>1992.0</th>\n",
       "      <th>1993.0</th>\n",
       "      <th>1994.0</th>\n",
       "      <th>1995.0</th>\n",
       "      <th>...</th>\n",
       "      <th>2009.0</th>\n",
       "      <th>2010.0</th>\n",
       "      <th>2011.0</th>\n",
       "      <th>2012.0</th>\n",
       "      <th>2013.0</th>\n",
       "      <th>2014.0</th>\n",
       "      <th>2015.0</th>\n",
       "      <th>2016.0</th>\n",
       "      <th>2017.0</th>\n",
       "      <th>2018.0</th>\n",
       "    </tr>\n",
       "  </thead>\n",
       "  <tbody>\n",
       "    <tr>\n",
       "      <th>4</th>\n",
       "      <td>Brasil</td>\n",
       "      <td>BRA</td>\n",
       "      <td>Población activa, total</td>\n",
       "      <td>SL.TLF.TOTL.IN</td>\n",
       "      <td>59920078.0</td>\n",
       "      <td>61473096.0</td>\n",
       "      <td>63397868.0</td>\n",
       "      <td>65352451.0</td>\n",
       "      <td>67376427.0</td>\n",
       "      <td>69484734.0</td>\n",
       "      <td>...</td>\n",
       "      <td>95333404.0</td>\n",
       "      <td>95231965.0</td>\n",
       "      <td>95052710.0</td>\n",
       "      <td>97597798.0</td>\n",
       "      <td>98903783.0</td>\n",
       "      <td>99932834.0</td>\n",
       "      <td>101600929.0</td>\n",
       "      <td>102508951.0</td>\n",
       "      <td>104260712.0</td>\n",
       "      <td>105542232.0</td>\n",
       "    </tr>\n",
       "    <tr>\n",
       "      <th>5</th>\n",
       "      <td>Brasil</td>\n",
       "      <td>BRA</td>\n",
       "      <td>Educación de nivel secundario, alumnos en programas de educación general</td>\n",
       "      <td>SE.SEC.ENRL.GC</td>\n",
       "      <td>12130155.0</td>\n",
       "      <td>13971090.0</td>\n",
       "      <td>14960211.0</td>\n",
       "      <td>15322543.0</td>\n",
       "      <td>15799825.0</td>\n",
       "      <td>17332329.0</td>\n",
       "      <td>...</td>\n",
       "      <td>22384267.0</td>\n",
       "      <td>22215054.0</td>\n",
       "      <td>21982889.0</td>\n",
       "      <td>21637503.0</td>\n",
       "      <td>24006493.0</td>\n",
       "      <td>23326279.0</td>\n",
       "      <td>22607924.0</td>\n",
       "      <td>22559870.0</td>\n",
       "      <td>22161547.0</td>\n",
       "      <td>22161547.0</td>\n",
       "    </tr>\n",
       "  </tbody>\n",
       "</table>\n",
       "<p>2 rows × 33 columns</p>\n",
       "</div>"
      ],
      "text/plain": [
       "  Country Name Country Code  \\\n",
       "4  Brasil       BRA           \n",
       "5  Brasil       BRA           \n",
       "\n",
       "                                                             Indicator Name  \\\n",
       "4  Población activa, total                                                    \n",
       "5  Educación de nivel secundario, alumnos en programas de educación general   \n",
       "\n",
       "   Indicator Code      1990.0      1991.0      1992.0      1993.0      1994.0  \\\n",
       "4  SL.TLF.TOTL.IN  59920078.0  61473096.0  63397868.0  65352451.0  67376427.0   \n",
       "5  SE.SEC.ENRL.GC  12130155.0  13971090.0  14960211.0  15322543.0  15799825.0   \n",
       "\n",
       "       1995.0  ...      2009.0      2010.0      2011.0      2012.0  \\\n",
       "4  69484734.0  ...  95333404.0  95231965.0  95052710.0  97597798.0   \n",
       "5  17332329.0  ...  22384267.0  22215054.0  21982889.0  21637503.0   \n",
       "\n",
       "       2013.0      2014.0       2015.0       2016.0       2017.0       2018.0  \n",
       "4  98903783.0  99932834.0  101600929.0  102508951.0  104260712.0  105542232.0  \n",
       "5  24006493.0  23326279.0  22607924.0   22559870.0   22161547.0   22161547.0   \n",
       "\n",
       "[2 rows x 33 columns]"
      ]
     },
     "execution_count": 25,
     "metadata": {},
     "output_type": "execute_result"
    }
   ],
   "source": [
    "educacion_BRA"
   ]
  },
  {
   "cell_type": "markdown",
   "metadata": {},
   "source": [
    "## Construccion del dataset para modelos de supervisado"
   ]
  },
  {
   "cell_type": "code",
   "execution_count": 26,
   "metadata": {},
   "outputs": [],
   "source": [
    "variables_educacion = ['SL.TLF.TOTL.IN']\n",
    "variables_proteccionsocial = ['SL.UEM.TOTL.NE.ZS']\n",
    "variables_pobreza = codigos_indicadores_pobreza"
   ]
  },
  {
   "cell_type": "markdown",
   "metadata": {},
   "source": [
    "### Variables tomadas de Educación"
   ]
  },
  {
   "cell_type": "code",
   "execution_count": 27,
   "metadata": {},
   "outputs": [],
   "source": [
    "def generacion_dataset(dataset,lista_indicadores,pais_string):\n",
    "\n",
    "    dataset = dataset[dataset['Indicator Code'].isin(lista_indicadores)]\n",
    "    df = dataset.drop(['Country Name', 'Country Code', 'Indicator Code'],axis=1)\n",
    "    df = df.columns.to_frame().T.append(df, ignore_index=True)\n",
    "    df.columns = range(len(df.columns))\n",
    "    df1 = df.T\n",
    "    df1.columns = df1.iloc[0]\n",
    "    df1 = df1.drop(df1.index[0])\n",
    "    df1['Country'] = pais_string\n",
    "    return df1"
   ]
  },
  {
   "cell_type": "code",
   "execution_count": 29,
   "metadata": {},
   "outputs": [],
   "source": [
    "df_educacion_PAR = generacion_dataset(educacion_PAR,variables_educacion,'PAR')\n",
    "df_educacion_BRA = generacion_dataset(educacion_BRA,variables_educacion,'BRA')\n",
    "df_educacion_URU = generacion_dataset(educacion_URU,variables_educacion,'URU')"
   ]
  },
  {
   "cell_type": "code",
   "execution_count": 31,
   "metadata": {
    "scrolled": true
   },
   "outputs": [
    {
     "data": {
      "text/html": [
       "<div>\n",
       "<style scoped>\n",
       "    .dataframe tbody tr th:only-of-type {\n",
       "        vertical-align: middle;\n",
       "    }\n",
       "\n",
       "    .dataframe tbody tr th {\n",
       "        vertical-align: top;\n",
       "    }\n",
       "\n",
       "    .dataframe thead th {\n",
       "        text-align: right;\n",
       "    }\n",
       "</style>\n",
       "<table border=\"1\" class=\"dataframe\">\n",
       "  <thead>\n",
       "    <tr style=\"text-align: right;\">\n",
       "      <th></th>\n",
       "      <th>Indicator Name</th>\n",
       "      <th>Población activa, total</th>\n",
       "      <th>Country</th>\n",
       "    </tr>\n",
       "  </thead>\n",
       "  <tbody>\n",
       "    <tr>\n",
       "      <th>1</th>\n",
       "      <td>1990.0</td>\n",
       "      <td>1.7066e+06</td>\n",
       "      <td>PAR</td>\n",
       "    </tr>\n",
       "    <tr>\n",
       "      <th>2</th>\n",
       "      <td>1991.0</td>\n",
       "      <td>1.75702e+06</td>\n",
       "      <td>PAR</td>\n",
       "    </tr>\n",
       "    <tr>\n",
       "      <th>3</th>\n",
       "      <td>1992.0</td>\n",
       "      <td>1.80544e+06</td>\n",
       "      <td>PAR</td>\n",
       "    </tr>\n",
       "    <tr>\n",
       "      <th>4</th>\n",
       "      <td>1993.0</td>\n",
       "      <td>1.86062e+06</td>\n",
       "      <td>PAR</td>\n",
       "    </tr>\n",
       "    <tr>\n",
       "      <th>5</th>\n",
       "      <td>1994.0</td>\n",
       "      <td>1.9188e+06</td>\n",
       "      <td>PAR</td>\n",
       "    </tr>\n",
       "    <tr>\n",
       "      <th>...</th>\n",
       "      <td>...</td>\n",
       "      <td>...</td>\n",
       "      <td>...</td>\n",
       "    </tr>\n",
       "    <tr>\n",
       "      <th>25</th>\n",
       "      <td>2014.0</td>\n",
       "      <td>1.75016e+06</td>\n",
       "      <td>URU</td>\n",
       "    </tr>\n",
       "    <tr>\n",
       "      <th>26</th>\n",
       "      <td>2015.0</td>\n",
       "      <td>1.74923e+06</td>\n",
       "      <td>URU</td>\n",
       "    </tr>\n",
       "    <tr>\n",
       "      <th>27</th>\n",
       "      <td>2016.0</td>\n",
       "      <td>1.75087e+06</td>\n",
       "      <td>URU</td>\n",
       "    </tr>\n",
       "    <tr>\n",
       "      <th>28</th>\n",
       "      <td>2017.0</td>\n",
       "      <td>1.74827e+06</td>\n",
       "      <td>URU</td>\n",
       "    </tr>\n",
       "    <tr>\n",
       "      <th>29</th>\n",
       "      <td>2018.0</td>\n",
       "      <td>1.74988e+06</td>\n",
       "      <td>URU</td>\n",
       "    </tr>\n",
       "  </tbody>\n",
       "</table>\n",
       "<p>87 rows × 3 columns</p>\n",
       "</div>"
      ],
      "text/plain": [
       "0  Indicator Name Población activa, total Country\n",
       "1   1990.0         1.7066e+06              PAR   \n",
       "2   1991.0         1.75702e+06             PAR   \n",
       "3   1992.0         1.80544e+06             PAR   \n",
       "4   1993.0         1.86062e+06             PAR   \n",
       "5   1994.0         1.9188e+06              PAR   \n",
       "..     ...                ...              ...   \n",
       "25  2014.0         1.75016e+06             URU   \n",
       "26  2015.0         1.74923e+06             URU   \n",
       "27  2016.0         1.75087e+06             URU   \n",
       "28  2017.0         1.74827e+06             URU   \n",
       "29  2018.0         1.74988e+06             URU   \n",
       "\n",
       "[87 rows x 3 columns]"
      ]
     },
     "execution_count": 31,
     "metadata": {},
     "output_type": "execute_result"
    }
   ],
   "source": [
    "educacion = pd.concat([df_educacion_PAR, df_educacion_BRA,df_educacion_URU])\n",
    "educacion"
   ]
  },
  {
   "cell_type": "markdown",
   "metadata": {},
   "source": [
    "### Variables tomadas de Protección Social"
   ]
  },
  {
   "cell_type": "code",
   "execution_count": 32,
   "metadata": {},
   "outputs": [],
   "source": [
    "df_psocial_PAR = generacion_dataset(proteccionsocial_PAR,variables_proteccionsocial,'PAR')\n",
    "df_psocial_BRA = generacion_dataset(proteccionsocial_BRA,variables_proteccionsocial,'BRA')\n",
    "df_psocial_URU = generacion_dataset(proteccionsocial_URU,variables_proteccionsocial,'URU')"
   ]
  },
  {
   "cell_type": "code",
   "execution_count": 36,
   "metadata": {},
   "outputs": [
    {
     "data": {
      "text/html": [
       "<div>\n",
       "<style scoped>\n",
       "    .dataframe tbody tr th:only-of-type {\n",
       "        vertical-align: middle;\n",
       "    }\n",
       "\n",
       "    .dataframe tbody tr th {\n",
       "        vertical-align: top;\n",
       "    }\n",
       "\n",
       "    .dataframe thead th {\n",
       "        text-align: right;\n",
       "    }\n",
       "</style>\n",
       "<table border=\"1\" class=\"dataframe\">\n",
       "  <thead>\n",
       "    <tr style=\"text-align: right;\">\n",
       "      <th></th>\n",
       "      <th>Indicator Name</th>\n",
       "      <th>Desempleo, total (% de participación total en la fuerza laboral) (estimación nacional)</th>\n",
       "      <th>Country</th>\n",
       "    </tr>\n",
       "  </thead>\n",
       "  <tbody>\n",
       "    <tr>\n",
       "      <th>1</th>\n",
       "      <td>1990.0</td>\n",
       "      <td>5.8</td>\n",
       "      <td>PAR</td>\n",
       "    </tr>\n",
       "    <tr>\n",
       "      <th>2</th>\n",
       "      <td>1991.0</td>\n",
       "      <td>5.1</td>\n",
       "      <td>PAR</td>\n",
       "    </tr>\n",
       "    <tr>\n",
       "      <th>3</th>\n",
       "      <td>1992.0</td>\n",
       "      <td>4.98</td>\n",
       "      <td>PAR</td>\n",
       "    </tr>\n",
       "    <tr>\n",
       "      <th>4</th>\n",
       "      <td>1993.0</td>\n",
       "      <td>5.06</td>\n",
       "      <td>PAR</td>\n",
       "    </tr>\n",
       "    <tr>\n",
       "      <th>5</th>\n",
       "      <td>1994.0</td>\n",
       "      <td>4.41</td>\n",
       "      <td>PAR</td>\n",
       "    </tr>\n",
       "    <tr>\n",
       "      <th>...</th>\n",
       "      <td>...</td>\n",
       "      <td>...</td>\n",
       "      <td>...</td>\n",
       "    </tr>\n",
       "    <tr>\n",
       "      <th>25</th>\n",
       "      <td>2014.0</td>\n",
       "      <td>6.5474</td>\n",
       "      <td>URU</td>\n",
       "    </tr>\n",
       "    <tr>\n",
       "      <th>26</th>\n",
       "      <td>2015.0</td>\n",
       "      <td>7.4879</td>\n",
       "      <td>URU</td>\n",
       "    </tr>\n",
       "    <tr>\n",
       "      <th>27</th>\n",
       "      <td>2016.0</td>\n",
       "      <td>7.8406</td>\n",
       "      <td>URU</td>\n",
       "    </tr>\n",
       "    <tr>\n",
       "      <th>28</th>\n",
       "      <td>2017.0</td>\n",
       "      <td>7.8896</td>\n",
       "      <td>URU</td>\n",
       "    </tr>\n",
       "    <tr>\n",
       "      <th>29</th>\n",
       "      <td>2018.0</td>\n",
       "      <td>8.3358</td>\n",
       "      <td>URU</td>\n",
       "    </tr>\n",
       "  </tbody>\n",
       "</table>\n",
       "<p>87 rows × 3 columns</p>\n",
       "</div>"
      ],
      "text/plain": [
       "0  Indicator Name  \\\n",
       "1   1990.0          \n",
       "2   1991.0          \n",
       "3   1992.0          \n",
       "4   1993.0          \n",
       "5   1994.0          \n",
       "..     ...          \n",
       "25  2014.0          \n",
       "26  2015.0          \n",
       "27  2016.0          \n",
       "28  2017.0          \n",
       "29  2018.0          \n",
       "\n",
       "0  Desempleo, total (% de participación total en la fuerza laboral) (estimación nacional)  \\\n",
       "1   5.8                                                                                     \n",
       "2   5.1                                                                                     \n",
       "3   4.98                                                                                    \n",
       "4   5.06                                                                                    \n",
       "5   4.41                                                                                    \n",
       "..   ...                                                                                    \n",
       "25  6.5474                                                                                  \n",
       "26  7.4879                                                                                  \n",
       "27  7.8406                                                                                  \n",
       "28  7.8896                                                                                  \n",
       "29  8.3358                                                                                  \n",
       "\n",
       "0  Country  \n",
       "1   PAR     \n",
       "2   PAR     \n",
       "3   PAR     \n",
       "4   PAR     \n",
       "5   PAR     \n",
       "..  ...     \n",
       "25  URU     \n",
       "26  URU     \n",
       "27  URU     \n",
       "28  URU     \n",
       "29  URU     \n",
       "\n",
       "[87 rows x 3 columns]"
      ]
     },
     "execution_count": 36,
     "metadata": {},
     "output_type": "execute_result"
    }
   ],
   "source": [
    "psocial = pd.concat([df_psocial_PAR, df_psocial_BRA,df_psocial_URU])\n",
    "psocial"
   ]
  },
  {
   "cell_type": "markdown",
   "metadata": {},
   "source": [
    "### Variables tomadas de Pobreza"
   ]
  },
  {
   "cell_type": "code",
   "execution_count": 37,
   "metadata": {},
   "outputs": [],
   "source": [
    "pobreza_PAR = generacion_dataset(pobreza_PAR,variables_pobreza,'PAR')\n",
    "pobreza_BRA = generacion_dataset(pobreza_BRA,variables_pobreza,'BRA')\n",
    "pobreza_URU = generacion_dataset(pobreza_URU,variables_pobreza,'URU')"
   ]
  },
  {
   "cell_type": "code",
   "execution_count": 40,
   "metadata": {},
   "outputs": [
    {
     "data": {
      "text/html": [
       "<div>\n",
       "<style scoped>\n",
       "    .dataframe tbody tr th:only-of-type {\n",
       "        vertical-align: middle;\n",
       "    }\n",
       "\n",
       "    .dataframe tbody tr th {\n",
       "        vertical-align: top;\n",
       "    }\n",
       "\n",
       "    .dataframe thead th {\n",
       "        text-align: right;\n",
       "    }\n",
       "</style>\n",
       "<table border=\"1\" class=\"dataframe\">\n",
       "  <thead>\n",
       "    <tr style=\"text-align: right;\">\n",
       "      <th></th>\n",
       "      <th>Indicator Name</th>\n",
       "      <th>Índice de Gini</th>\n",
       "      <th>Brecha de pobreza a $1,90 por día (2011 PPA) (%)</th>\n",
       "      <th>Tasa de incidencia de la pobreza, sobre la base de $1,90 por día (2011 PPA) (% de la población)</th>\n",
       "      <th>Country</th>\n",
       "    </tr>\n",
       "  </thead>\n",
       "  <tbody>\n",
       "    <tr>\n",
       "      <th>1</th>\n",
       "      <td>1990.0</td>\n",
       "      <td>60.5</td>\n",
       "      <td>8.7</td>\n",
       "      <td>21.6</td>\n",
       "      <td>BRA</td>\n",
       "    </tr>\n",
       "    <tr>\n",
       "      <th>2</th>\n",
       "      <td>1991.0</td>\n",
       "      <td>56.85</td>\n",
       "      <td>8.9</td>\n",
       "      <td>21.25</td>\n",
       "      <td>BRA</td>\n",
       "    </tr>\n",
       "    <tr>\n",
       "      <th>3</th>\n",
       "      <td>1992.0</td>\n",
       "      <td>53.2</td>\n",
       "      <td>9.1</td>\n",
       "      <td>20.9</td>\n",
       "      <td>BRA</td>\n",
       "    </tr>\n",
       "    <tr>\n",
       "      <th>4</th>\n",
       "      <td>1993.0</td>\n",
       "      <td>60.1</td>\n",
       "      <td>8.6</td>\n",
       "      <td>19.9</td>\n",
       "      <td>BRA</td>\n",
       "    </tr>\n",
       "    <tr>\n",
       "      <th>5</th>\n",
       "      <td>1994.0</td>\n",
       "      <td>59.85</td>\n",
       "      <td>6.95</td>\n",
       "      <td>16.45</td>\n",
       "      <td>BRA</td>\n",
       "    </tr>\n",
       "  </tbody>\n",
       "</table>\n",
       "</div>"
      ],
      "text/plain": [
       "0 Indicator Name Índice de Gini  \\\n",
       "1  1990.0         60.5            \n",
       "2  1991.0         56.85           \n",
       "3  1992.0         53.2            \n",
       "4  1993.0         60.1            \n",
       "5  1994.0         59.85           \n",
       "\n",
       "0 Brecha de pobreza a $1,90 por día (2011 PPA) (%)  \\\n",
       "1  8.7                                               \n",
       "2  8.9                                               \n",
       "3  9.1                                               \n",
       "4  8.6                                               \n",
       "5  6.95                                              \n",
       "\n",
       "0 Tasa de incidencia de la pobreza, sobre la base de $1,90 por día (2011 PPA) (% de la población)  \\\n",
       "1  21.6                                                                                             \n",
       "2  21.25                                                                                            \n",
       "3  20.9                                                                                             \n",
       "4  19.9                                                                                             \n",
       "5  16.45                                                                                            \n",
       "\n",
       "0 Country  \n",
       "1  BRA     \n",
       "2  BRA     \n",
       "3  BRA     \n",
       "4  BRA     \n",
       "5  BRA     "
      ]
     },
     "execution_count": 40,
     "metadata": {},
     "output_type": "execute_result"
    }
   ],
   "source": [
    "pobreza_BRA.head()"
   ]
  },
  {
   "cell_type": "code",
   "execution_count": 41,
   "metadata": {
    "scrolled": true
   },
   "outputs": [
    {
     "data": {
      "text/html": [
       "<div>\n",
       "<style scoped>\n",
       "    .dataframe tbody tr th:only-of-type {\n",
       "        vertical-align: middle;\n",
       "    }\n",
       "\n",
       "    .dataframe tbody tr th {\n",
       "        vertical-align: top;\n",
       "    }\n",
       "\n",
       "    .dataframe thead th {\n",
       "        text-align: right;\n",
       "    }\n",
       "</style>\n",
       "<table border=\"1\" class=\"dataframe\">\n",
       "  <thead>\n",
       "    <tr style=\"text-align: right;\">\n",
       "      <th></th>\n",
       "      <th>Indicator Name</th>\n",
       "      <th>Índice de Gini</th>\n",
       "      <th>Brecha de pobreza a $1,90 por día (2011 PPA) (%)</th>\n",
       "      <th>Tasa de incidencia de la pobreza, sobre la base de $1,90 por día (2011 PPA) (% de la población)</th>\n",
       "      <th>Country</th>\n",
       "    </tr>\n",
       "  </thead>\n",
       "  <tbody>\n",
       "    <tr>\n",
       "      <th>1</th>\n",
       "      <td>1990.0</td>\n",
       "      <td>40.8</td>\n",
       "      <td>0.3</td>\n",
       "      <td>1.2</td>\n",
       "      <td>PAR</td>\n",
       "    </tr>\n",
       "    <tr>\n",
       "      <th>2</th>\n",
       "      <td>1991.0</td>\n",
       "      <td>44.28</td>\n",
       "      <td>1.3</td>\n",
       "      <td>3.44</td>\n",
       "      <td>PAR</td>\n",
       "    </tr>\n",
       "    <tr>\n",
       "      <th>3</th>\n",
       "      <td>1992.0</td>\n",
       "      <td>47.76</td>\n",
       "      <td>2.3</td>\n",
       "      <td>5.68</td>\n",
       "      <td>PAR</td>\n",
       "    </tr>\n",
       "    <tr>\n",
       "      <th>4</th>\n",
       "      <td>1993.0</td>\n",
       "      <td>51.24</td>\n",
       "      <td>3.3</td>\n",
       "      <td>7.92</td>\n",
       "      <td>PAR</td>\n",
       "    </tr>\n",
       "    <tr>\n",
       "      <th>5</th>\n",
       "      <td>1994.0</td>\n",
       "      <td>54.72</td>\n",
       "      <td>4.3</td>\n",
       "      <td>10.16</td>\n",
       "      <td>PAR</td>\n",
       "    </tr>\n",
       "    <tr>\n",
       "      <th>...</th>\n",
       "      <td>...</td>\n",
       "      <td>...</td>\n",
       "      <td>...</td>\n",
       "      <td>...</td>\n",
       "      <td>...</td>\n",
       "    </tr>\n",
       "    <tr>\n",
       "      <th>25</th>\n",
       "      <td>2014.0</td>\n",
       "      <td>40.1</td>\n",
       "      <td>0</td>\n",
       "      <td>0.1</td>\n",
       "      <td>URU</td>\n",
       "    </tr>\n",
       "    <tr>\n",
       "      <th>26</th>\n",
       "      <td>2015.0</td>\n",
       "      <td>40.1</td>\n",
       "      <td>0</td>\n",
       "      <td>0.1</td>\n",
       "      <td>URU</td>\n",
       "    </tr>\n",
       "    <tr>\n",
       "      <th>27</th>\n",
       "      <td>2016.0</td>\n",
       "      <td>39.7</td>\n",
       "      <td>0</td>\n",
       "      <td>0.1</td>\n",
       "      <td>URU</td>\n",
       "    </tr>\n",
       "    <tr>\n",
       "      <th>28</th>\n",
       "      <td>2017.0</td>\n",
       "      <td>39.5</td>\n",
       "      <td>0</td>\n",
       "      <td>0.1</td>\n",
       "      <td>URU</td>\n",
       "    </tr>\n",
       "    <tr>\n",
       "      <th>29</th>\n",
       "      <td>2018.0</td>\n",
       "      <td>39.7</td>\n",
       "      <td>0</td>\n",
       "      <td>0.1</td>\n",
       "      <td>URU</td>\n",
       "    </tr>\n",
       "  </tbody>\n",
       "</table>\n",
       "<p>87 rows × 5 columns</p>\n",
       "</div>"
      ],
      "text/plain": [
       "0  Indicator Name Índice de Gini  \\\n",
       "1   1990.0         40.8            \n",
       "2   1991.0         44.28           \n",
       "3   1992.0         47.76           \n",
       "4   1993.0         51.24           \n",
       "5   1994.0         54.72           \n",
       "..     ...           ...           \n",
       "25  2014.0         40.1            \n",
       "26  2015.0         40.1            \n",
       "27  2016.0         39.7            \n",
       "28  2017.0         39.5            \n",
       "29  2018.0         39.7            \n",
       "\n",
       "0  Brecha de pobreza a $1,90 por día (2011 PPA) (%)  \\\n",
       "1   0.3                                               \n",
       "2   1.3                                               \n",
       "3   2.3                                               \n",
       "4   3.3                                               \n",
       "5   4.3                                               \n",
       "..  ...                                               \n",
       "25  0                                                 \n",
       "26  0                                                 \n",
       "27  0                                                 \n",
       "28  0                                                 \n",
       "29  0                                                 \n",
       "\n",
       "0  Tasa de incidencia de la pobreza, sobre la base de $1,90 por día (2011 PPA) (% de la población)  \\\n",
       "1   1.2                                                                                              \n",
       "2   3.44                                                                                             \n",
       "3   5.68                                                                                             \n",
       "4   7.92                                                                                             \n",
       "5   10.16                                                                                            \n",
       "..    ...                                                                                            \n",
       "25  0.1                                                                                              \n",
       "26  0.1                                                                                              \n",
       "27  0.1                                                                                              \n",
       "28  0.1                                                                                              \n",
       "29  0.1                                                                                              \n",
       "\n",
       "0  Country  \n",
       "1   PAR     \n",
       "2   PAR     \n",
       "3   PAR     \n",
       "4   PAR     \n",
       "5   PAR     \n",
       "..  ...     \n",
       "25  URU     \n",
       "26  URU     \n",
       "27  URU     \n",
       "28  URU     \n",
       "29  URU     \n",
       "\n",
       "[87 rows x 5 columns]"
      ]
     },
     "execution_count": 41,
     "metadata": {},
     "output_type": "execute_result"
    }
   ],
   "source": [
    "pobreza = pd.concat([pobreza_PAR,pobreza_BRA,pobreza_URU])\n",
    "pobreza"
   ]
  },
  {
   "cell_type": "code",
   "execution_count": 45,
   "metadata": {},
   "outputs": [
    {
     "data": {
      "text/html": [
       "<div>\n",
       "<style scoped>\n",
       "    .dataframe tbody tr th:only-of-type {\n",
       "        vertical-align: middle;\n",
       "    }\n",
       "\n",
       "    .dataframe tbody tr th {\n",
       "        vertical-align: top;\n",
       "    }\n",
       "\n",
       "    .dataframe thead th {\n",
       "        text-align: right;\n",
       "    }\n",
       "</style>\n",
       "<table border=\"1\" class=\"dataframe\">\n",
       "  <thead>\n",
       "    <tr style=\"text-align: right;\">\n",
       "      <th></th>\n",
       "      <th>Indicator Name</th>\n",
       "      <th>Población activa, total</th>\n",
       "      <th>Country</th>\n",
       "      <th>Índice de Gini</th>\n",
       "      <th>Brecha de pobreza a $1,90 por día (2011 PPA) (%)</th>\n",
       "      <th>Tasa de incidencia de la pobreza, sobre la base de $1,90 por día (2011 PPA) (% de la población)</th>\n",
       "      <th>Desempleo, total (% de participación total en la fuerza laboral) (estimación nacional)</th>\n",
       "    </tr>\n",
       "  </thead>\n",
       "  <tbody>\n",
       "    <tr>\n",
       "      <th>0</th>\n",
       "      <td>1990.0</td>\n",
       "      <td>1.7066e+06</td>\n",
       "      <td>PAR</td>\n",
       "      <td>40.8</td>\n",
       "      <td>0.3</td>\n",
       "      <td>1.2</td>\n",
       "      <td>5.8</td>\n",
       "    </tr>\n",
       "    <tr>\n",
       "      <th>1</th>\n",
       "      <td>1991.0</td>\n",
       "      <td>1.75702e+06</td>\n",
       "      <td>PAR</td>\n",
       "      <td>44.28</td>\n",
       "      <td>1.3</td>\n",
       "      <td>3.44</td>\n",
       "      <td>5.1</td>\n",
       "    </tr>\n",
       "    <tr>\n",
       "      <th>2</th>\n",
       "      <td>1992.0</td>\n",
       "      <td>1.80544e+06</td>\n",
       "      <td>PAR</td>\n",
       "      <td>47.76</td>\n",
       "      <td>2.3</td>\n",
       "      <td>5.68</td>\n",
       "      <td>4.98</td>\n",
       "    </tr>\n",
       "    <tr>\n",
       "      <th>3</th>\n",
       "      <td>1993.0</td>\n",
       "      <td>1.86062e+06</td>\n",
       "      <td>PAR</td>\n",
       "      <td>51.24</td>\n",
       "      <td>3.3</td>\n",
       "      <td>7.92</td>\n",
       "      <td>5.06</td>\n",
       "    </tr>\n",
       "    <tr>\n",
       "      <th>4</th>\n",
       "      <td>1994.0</td>\n",
       "      <td>1.9188e+06</td>\n",
       "      <td>PAR</td>\n",
       "      <td>54.72</td>\n",
       "      <td>4.3</td>\n",
       "      <td>10.16</td>\n",
       "      <td>4.41</td>\n",
       "    </tr>\n",
       "    <tr>\n",
       "      <th>...</th>\n",
       "      <td>...</td>\n",
       "      <td>...</td>\n",
       "      <td>...</td>\n",
       "      <td>...</td>\n",
       "      <td>...</td>\n",
       "      <td>...</td>\n",
       "      <td>...</td>\n",
       "    </tr>\n",
       "    <tr>\n",
       "      <th>82</th>\n",
       "      <td>2014.0</td>\n",
       "      <td>1.75016e+06</td>\n",
       "      <td>URU</td>\n",
       "      <td>40.1</td>\n",
       "      <td>0</td>\n",
       "      <td>0.1</td>\n",
       "      <td>6.5474</td>\n",
       "    </tr>\n",
       "    <tr>\n",
       "      <th>83</th>\n",
       "      <td>2015.0</td>\n",
       "      <td>1.74923e+06</td>\n",
       "      <td>URU</td>\n",
       "      <td>40.1</td>\n",
       "      <td>0</td>\n",
       "      <td>0.1</td>\n",
       "      <td>7.4879</td>\n",
       "    </tr>\n",
       "    <tr>\n",
       "      <th>84</th>\n",
       "      <td>2016.0</td>\n",
       "      <td>1.75087e+06</td>\n",
       "      <td>URU</td>\n",
       "      <td>39.7</td>\n",
       "      <td>0</td>\n",
       "      <td>0.1</td>\n",
       "      <td>7.8406</td>\n",
       "    </tr>\n",
       "    <tr>\n",
       "      <th>85</th>\n",
       "      <td>2017.0</td>\n",
       "      <td>1.74827e+06</td>\n",
       "      <td>URU</td>\n",
       "      <td>39.5</td>\n",
       "      <td>0</td>\n",
       "      <td>0.1</td>\n",
       "      <td>7.8896</td>\n",
       "    </tr>\n",
       "    <tr>\n",
       "      <th>86</th>\n",
       "      <td>2018.0</td>\n",
       "      <td>1.74988e+06</td>\n",
       "      <td>URU</td>\n",
       "      <td>39.7</td>\n",
       "      <td>0</td>\n",
       "      <td>0.1</td>\n",
       "      <td>8.3358</td>\n",
       "    </tr>\n",
       "  </tbody>\n",
       "</table>\n",
       "<p>87 rows × 7 columns</p>\n",
       "</div>"
      ],
      "text/plain": [
       "0  Indicator Name Población activa, total Country Índice de Gini  \\\n",
       "0   1990.0         1.7066e+06              PAR     40.8            \n",
       "1   1991.0         1.75702e+06             PAR     44.28           \n",
       "2   1992.0         1.80544e+06             PAR     47.76           \n",
       "3   1993.0         1.86062e+06             PAR     51.24           \n",
       "4   1994.0         1.9188e+06              PAR     54.72           \n",
       "..     ...                ...              ...       ...           \n",
       "82  2014.0         1.75016e+06             URU     40.1            \n",
       "83  2015.0         1.74923e+06             URU     40.1            \n",
       "84  2016.0         1.75087e+06             URU     39.7            \n",
       "85  2017.0         1.74827e+06             URU     39.5            \n",
       "86  2018.0         1.74988e+06             URU     39.7            \n",
       "\n",
       "0  Brecha de pobreza a $1,90 por día (2011 PPA) (%)  \\\n",
       "0   0.3                                               \n",
       "1   1.3                                               \n",
       "2   2.3                                               \n",
       "3   3.3                                               \n",
       "4   4.3                                               \n",
       "..  ...                                               \n",
       "82  0                                                 \n",
       "83  0                                                 \n",
       "84  0                                                 \n",
       "85  0                                                 \n",
       "86  0                                                 \n",
       "\n",
       "0  Tasa de incidencia de la pobreza, sobre la base de $1,90 por día (2011 PPA) (% de la población)  \\\n",
       "0   1.2                                                                                              \n",
       "1   3.44                                                                                             \n",
       "2   5.68                                                                                             \n",
       "3   7.92                                                                                             \n",
       "4   10.16                                                                                            \n",
       "..    ...                                                                                            \n",
       "82  0.1                                                                                              \n",
       "83  0.1                                                                                              \n",
       "84  0.1                                                                                              \n",
       "85  0.1                                                                                              \n",
       "86  0.1                                                                                              \n",
       "\n",
       "0  Desempleo, total (% de participación total en la fuerza laboral) (estimación nacional)  \n",
       "0   5.8                                                                                    \n",
       "1   5.1                                                                                    \n",
       "2   4.98                                                                                   \n",
       "3   5.06                                                                                   \n",
       "4   4.41                                                                                   \n",
       "..   ...                                                                                   \n",
       "82  6.5474                                                                                 \n",
       "83  7.4879                                                                                 \n",
       "84  7.8406                                                                                 \n",
       "85  7.8896                                                                                 \n",
       "86  8.3358                                                                                 \n",
       "\n",
       "[87 rows x 7 columns]"
      ]
     },
     "execution_count": 45,
     "metadata": {},
     "output_type": "execute_result"
    }
   ],
   "source": [
    "dfmer1 = pd.merge(educacion, pobreza, on=[\"Country\",'Indicator Name'])\n",
    "df_final = dfmer1.merge(psocial,on=[\"Country\",'Indicator Name'])\n",
    "df_final"
   ]
  },
  {
   "cell_type": "code",
   "execution_count": 53,
   "metadata": {
    "scrolled": true
   },
   "outputs": [
    {
     "data": {
      "text/plain": [
       "<matplotlib.axes._subplots.AxesSubplot at 0x7f3fda1076d0>"
      ]
     },
     "execution_count": 53,
     "metadata": {},
     "output_type": "execute_result"
    },
    {
     "data": {
      "image/png": "[encoded data removed]",
      "text/plain": [
       "<Figure size 432x288 with 1 Axes>"
      ]
     },
     "metadata": {
      "needs_background": "light"
     },
     "output_type": "display_data"
    }
   ],
   "source": [
    "#Distribución índice de Gini\n",
    "df_final['Índice de Gini'].hist()"
   ]
  },
  {
   "cell_type": "markdown",
   "metadata": {},
   "source": [
    "## CONSIGNAS"
   ]
  },
  {
   "cell_type": "markdown",
   "metadata": {},
   "source": [
    "#### Preparación de los datos"
   ]
  },
  {
   "cell_type": "markdown",
   "metadata": {},
   "source": [
    "1. Agregar la información de ARGENTINA al dataset anterior en base a lo obtenido en el Práctico de Análisis y Curación.\n",
    "2. Convertir la columna Country en una variable dummy y codificar la columna Year (Los siguientes links pueden ser útiles: [Link1](https://chrisalbon.com/python/data_wrangling/pandas_convert_categorical_to_dummies/), [Link2](https://towardsdatascience.com/smarter-ways-to-encode-categorical-data-for-machine-learning-part-1-of-3-6dca2f71b159), [Link3](https://machinelearningmastery.com/one-hot-encoding-for-categorical-data/)). \n",
    "3. Construir un segundo dataset con datos normalizados usando *StandardScaler* o *MinMaxScaler* de la librería scikit-learn por ejemplo (las columnas Country y Year no se normalizan). En este punto la elección es libre pero sería interesante ver el efecto de la normalización sobre la distribución de los datos de forma similar a lo realizado en este [post](https://towardsdatascience.com/scale-standardize-or-normalize-with-scikit-learn-6ccc7d176a02).\n"
   ]
  },
  {
   "cell_type": "markdown",
   "metadata": {},
   "source": [
    "#### Modelado"
   ]
  },
  {
   "cell_type": "markdown",
   "metadata": {},
   "source": [
    "##### Parte I"
   ]
  },
  {
   "cell_type": "markdown",
   "metadata": {},
   "source": [
    "Una parte esencial del proceso de modelado (y en realidad de todo experimento científico) es llevar a cabo un *seguimiento* de todas las pruebas realizadas de manera tal de no \"perder resultados\" (con la consecuencia de tener que repetir experimentos ya realizados) y poder llevar un registro de que tanto se mejoró/empeoró. \n",
    "\n",
    "Para llevar a cabo esto disponemos de una herramienta llamada [mlflow](https://mlflow.org/) que nos permite llevar el trackeo de todo el proceso de una manera simple y rápida, además de poder guardar información que consideremos relevante. Así, la primer consigna de esta sección es **entender y setear la herramienta, instalando mlflow si es necesario, de manera tal que todo experimento que se pruebe a partir de este momento quede registrado y pueda recuperarse**. En este [link](https://github.com/PiConsulting/Pensadero/tree/master/Eventos/2020/2020-03-06_wids_mlflow) encontrarán una implementación simple con mflow de la cual pueden guiarse."
   ]
  },
  {
   "cell_type": "markdown",
   "metadata": {},
   "source": [
    "##### Parte II"
   ]
  },
  {
   "cell_type": "markdown",
   "metadata": {},
   "source": [
    "1. Realizar la partición del dataset en conjunto de entrenamiento y test. ¿Son las distribuciones de los datos similares en ambos conjuntos? Si la respuesta es no, ¿qué decisión tomarían?.\n",
    "2. Probar modelos de *regresión lineal* y *polinomial* (elegir al menos dos grados diferentes) sobre los **datos sin normalizar**. ¿Cómo son los errores sobre el conjunto de entrenamiento y sobre el conjunto de test? Analizar los resultados.\n",
    "3. Probar algún modelo del tipo *árbol de decisión/random forest* para problemas de regresión también sobre los **datos sin normalizar**. Extraer y estudiar el feature importance. Análizar la performance de estos modelos y comparar con los resultados del punto 2 (**Sabemos que esto va a dar muy mal por la poca cantidad de datos!**).\n",
    "4. Repetir los pasos 2 y 3 sobre el **dataset normalizado**: ¿Cambian los resultados? ¿Se observa alguna diferencia en performance? ¿Algo para destacar?.\n",
    "5. A modo de práctica recuperar algún resultado usando mlflow. Nota: Se recomienda guardar las métricas obtenidas, modelos, tipo de algoritmo probado (y por qué no los dataset usados). \n",
    "6. Escribir conclusiones finales analizando los problemas al momento de modelar un dataset reducido (¿Qué rol cumple el overfitting en este caso?)"
   ]
  },
  {
   "cell_type": "markdown",
   "metadata": {},
   "source": [
    "## Presentación de resultados"
   ]
  },
  {
   "cell_type": "markdown",
   "metadata": {},
   "source": [
    "Realizar un informe en formato notebook en la cual se presenten los resultados del análisis realizado. El mismo debe estar pensado para un público técnico pero que desconoce los aspectos propios del problema a resolver (por ejemplo, sus compañeros de clase).\n",
    "\n",
    "Se evaluará principalmente la claridad del mensaje presentado, el uso de las herramientas y los conceptos desarrollados durante las clases de las materias \"Introdución al Aprendizaje Automático\" y \"Aprendizaje Supervisado\". Asimismo, el mismo debe incluir de manera clara los hallazgos y problemas encontrados y las posibles accionar a tomar.\n",
    "\n",
    "Se aconseja que el informe tenga una estructura ordenada, clara y fácil de leer. Por ejemplo, podría contar con una introducción a la problemática a resolver, una descripción de los datos a emplear, el desarrollo propiamente dicho de todo el trabajo y las conclusiones que se obtuvieron.\n",
    "\n",
    "Fecha de entrega: 25/09/2020"
   ]
  },
  {
   "cell_type": "code",
   "execution_count": null,
   "metadata": {},
   "outputs": [],
   "source": []
  }
 ],
 "metadata": {
  "kernelspec": {
   "display_name": "Python 3",
   "language": "python",
   "name": "python3"
  },
  "language_info": {
   "codemirror_mode": {
    "name": "ipython",
    "version": 3
   },
   "file_extension": ".py",
   "mimetype": "text/x-python",
   "name": "python",
   "nbconvert_exporter": "python",
   "pygments_lexer": "ipython3",
   "version": "3.7.6"
  },
  "toc": {
   "base_numbering": 1,
   "nav_menu": {},
   "number_sections": true,
   "sideBar": true,
   "skip_h1_title": false,
   "title_cell": "Table of Contents",
   "title_sidebar": "Contents",
   "toc_cell": false,
   "toc_position": {
    "height": "calc(100% - 180px)",
    "left": "10px",
    "top": "150px",
    "width": "209px"
   },
   "toc_section_display": true,
   "toc_window_display": true
  }
 },
 "nbformat": 4,
 "nbformat_minor": 4
}
