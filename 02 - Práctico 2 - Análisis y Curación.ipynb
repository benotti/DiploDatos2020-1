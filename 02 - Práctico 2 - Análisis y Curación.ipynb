{
 "cells": [
  {
   "cell_type": "markdown",
   "metadata": {},
   "source": [
    "# MENTORÍA: Predicción de indicadores sociales para países del MERCOSUR"
   ]
  },
  {
   "cell_type": "markdown",
   "metadata": {},
   "source": [
    "## Práctico 2: Análisis y Curación\n",
    "\n",
    "[Link a la descripción del proyecto](https://github.com/jfrau/DiploDatos2020/blob/master/README.md)"
   ]
  },
  {
   "cell_type": "markdown",
   "metadata": {},
   "source": [
    "### Objetivos\n",
    "\n",
    "1. Lograr un entendimiento y análisis más profundo de los datos haciendo uso de herramientas estadísticas y partiendo de lo realizado en el práctico de Análisis y Visualización.\n",
    "2. Realizar una limpieza y depuración del dataset (outliers, valores nulos, etc.) generando un nuevo dataset que contenga la información más fiable posible.\n",
    "3. Focalizar el estudio de la predicción en Argentina.\n"
   ]
  },
  {
   "cell_type": "markdown",
   "metadata": {},
   "source": [
    "## Introducción"
   ]
  },
  {
   "cell_type": "markdown",
   "metadata": {},
   "source": [
    "En concordancia con los objetivos anteriores, en **líneas generales** se buscará:\n",
    "\n",
    "- Seguir indagando y profundizando el conocimiento de los datos, \n",
    "- Descubrir más patrones,\n",
    "- Confirmar teorías que surgieron durante el primer análisis y \n",
    "- Eliminar información ruidosa y no relevante. \n",
    "\n",
    "En **líneas más específicas**, centraremos el análisis en Argentina aprovechando nuestro conocimiento de dominio pero recurriremos a los datos de los demás países cada vez que sea necesario.\n",
    "\n",
    "El **resultado final del práctico** deberá ser un nuevo dataset por Indicador que solo incluya datos de Argentina, lo más limpio y fiable posible (por ejemplo, sin valores nulos).\n",
    "\n",
    "En base a lo anterior se proponen las siguientes consignas. **Recuerden que las mismas son disparadoras y que cualquier enfoque adicional desde su formación, conocimiento de dominio o simple curiosidad siempre enriquecerá el trabajo.**"
   ]
  },
  {
   "cell_type": "markdown",
   "metadata": {},
   "source": [
    "### Parte I: Limpieza"
   ]
  },
  {
   "cell_type": "markdown",
   "metadata": {},
   "source": [
    "A continuación se proponen una serie de consignas a llevar a cabo **sobre cada Indicador** con el objetivo de realizar la limpieza de los datos."
   ]
  },
  {
   "cell_type": "markdown",
   "metadata": {},
   "source": [
    "1. Eliminar todos los datos previos al año 1990 (es decir, la franja temporal desde 1970 hasta 1989). \n",
    "2. Filtrar los datos anteriores considerando solo Argentina.\n",
    "3. Restringir el conjunto de las variables del indicador a las 15 features elegidas (aquellas con más del 50% de valores no nulos) durante el desarrollo del Práctico anterior. \n",
    "4. Realizar una inspección acerca del significado de las variables valiendose de la información disponible en la metadata. Pueden guiarse de las siguientes preguntas:\n",
    "    - ¿Son todos los features representativos dentro del contexto argentino? ¿Existe alguno/s que podría no considerarse dado que no aplica o no aplicó a la realidad argentina? Justifique las respuestas.\n",
    "    - En las variables que involucran género y edad: ¿se consideran todos casos?. Por ejemplo: % de trabajadores asalariados hombres y % de trabajadoras asalariaradas mujeres. Si la respuesta es negativa, ¿cuál consideran que sería la decisión más acertada para abordar este aspecto? \n",
    "5. **OPCIONAL**: Agregar 5 features extras a cada indicador o a un indicador en particular que les resulte de interés de analizar sobre el contexto argentino."
   ]
  },
  {
   "cell_type": "markdown",
   "metadata": {},
   "source": [
    "### Parte II: Análisis y Curación"
   ]
  },
  {
   "cell_type": "markdown",
   "metadata": {},
   "source": [
    "1. **Detección y análisis de valores nulos** \n",
    "\n",
    "Para cada uno de los datasets resultantes del punto anterior responder a las siguientes preguntas:\n",
    "                \n",
    "   - ¿Qué proporción de valores nulos presenta cada feature?\n",
    "   - ¿Los mismos se presentan aislados o agrupados por intervalos de tiempo?\n",
    "   - ¿Cómo es la distribución de valores nulos por columna (es decir, para cada año)?\n",
    "   - ¿La presencia de ciertos valores nulos podría estar justificada por algún contexto social-político-económico a nivel nacional, regional o global?.\n",
    "    \n",
    "Identificar los mismos de la manera más precisa posible."
   ]
  },
  {
   "cell_type": "markdown",
   "metadata": {},
   "source": [
    "2. **Cálculo de estadísticos y distribuciones** \n",
    "\n",
    "    a. Obtener la media, mediana, moda, desviación estándar, varianza, valor máximo y mínimo, percentiles y cualquier otro estadístico que les resulte importante **de cada uno de los features de cada Indicador**. *AYUDA*: Se podría utilizar la función [<code>describe</code>](https://pandas.pydata.org/pandas-docs/stable/reference/api/pandas.DataFrame.describe.html) de Pandas junto con la siguiente sintaxis <code>DATASET.apply(pd.DataFrame.describe, axis=1)</code>\n",
    "     \n",
    "    b. Realizar nuevamente los histogramas ó boxplots (el que considere más pertinente) de las 15 features para cada Indicador. \n",
    "    \n",
    "    c. Trazar los gráficos de línea de los 15 features en el intervalo considerado.\n",
    "    \n",
    "    d. Analizar en conjunto los resultados de los puntos a, b y c. Pueden guiarse de las siguientes preguntas:\n",
    "      - ¿Las distribuciones presentan alguna forma conocida?\n",
    "      - ¿Qué sucede con los valores máximos y mínimos? ¿Existen outliers?\n",
    "      - ¿Detectan algún patrón o tendencia?. \n",
    "      - ¿Cómo afecta la presencia de valores nulos o faltantes a la distribución de las variables?\n",
    "      - ¿Las variables o features de un mismo indicador presentan distribuciones similares?. *OPCIONAL:* Utilizar algún test estadístico (por ejemplo test de comparación de medias) para validar o rechazar hipótesis. "
   ]
  },
  {
   "cell_type": "markdown",
   "metadata": {},
   "source": [
    " 3. **Análisis de posible imputación de valores faltantes** \n",
    " \n",
    "     a. En base al estudio y análisis anterior, ¿Considera que se dispone de suficiente información para completar/rellenar los valores faltantes? ¿Cuáles reemplazaría y qué criterio/s usaría? Justifique sus respuestas.\n",
    "     \n",
    "     b. Identificar los casos en los cuáles no se cuenta con información suficiente para compensar la falta de valores nulos y analizar dichos features valiendose del análisis y visualización realizada en el práctico anterior:\n",
    "       - ¿Cómo es la distribución de este feature en los demás países? \n",
    "       - ¿Presentan la misma tendencia a lo largo del tiempo? ¿Presentan la misma cantidad de valores faltantes? \n",
    "       - ¿Es posible establecer alguna relación entre los países vecinos a Argentina o con algún país en particular?\n",
    "       - ¿De qué manera la posible correlación con otros países se encuentra limitada por el contexto local? Por ejemplo: La crisis del 2001 en Argentina es un evento totalmente local que probablemente no haya afectado a la región).\n",
    "       \n",
    "       *OPCIONAL:* Aplicar test estadísticos para validar o rechazar hipótesis o cualquier herramienta estadística que considere pertinente.\n",
    "       \n",
    "    c. Enumerar las conclusiones que se extrajeron a partir de los puntos a y b y tomar una decisión al respecto, es decir:   \n",
    "       - Imputar valores nulos usando el criterio elegido.\n",
    "       - Eliminar aquellos features con valores nulos por carecer de información suficiente para tomar una decisión.\n",
    "    \n",
    "    d. Dejar un registro en formato resumen, o el que consideren pertinente, de las decisiones tomadas junto con alguna breve explicación de las mismas. La idea es que sea lo más entendible posible para un lector técnico pero sin demasiado conocimiento del dataset. \n",
    "    \n",
    "    e. A partir de los resultados del punto c, generar un nuevo dataset por Indicador para Argentina con un nombre adecuado y guardarlo en formato csv. El procedimiento puede realizarse con la función [<code>to_csv</code>](https://pandas.pydata.org/pandas-docs/stable/reference/api/pandas.DataFrame.to_csv.html) de pandas."
   ]
  },
  {
   "cell_type": "markdown",
   "metadata": {},
   "source": [
    "## Presentación de resultados \n",
    "\n",
    "Realizar un informe en formato notebook, o el que se considere más apropiado, en la cual se presenten los resultados del análisis realizado. El mismo debe estar pensado para un público técnico pero que desconoce los aspectos propios del problema a resolver (por ejemplo, sus compañeros de clase). \n",
    "\n",
    "Se evaluará principalmente la claridad del mensaje presentado, el uso de las herramientas y los conceptos desarrollados durante las clases de la materia \"Análisis y Curación\". Asimismo, el mismo debe incluir de manera clara los hallazgos y problemas encontrados y las posibles accionar a tomar.\n",
    "\n",
    "Se aconseja que el informe tenga una estructura ordenada, clara y fácil de leer. Por ejemplo, podría contar con una introducción a la problemática a resolver, una descripción de los datos a emplear, el desarrollo propiamente dicho de todo el trabajo y las conclusiones que se obtuvieron.\n"
   ]
  },
  {
   "cell_type": "markdown",
   "metadata": {},
   "source": [
    "## Fechas de entrega"
   ]
  },
  {
   "cell_type": "markdown",
   "metadata": {},
   "source": [
    "- 18/07/2020: Reunión para mostrar avances, resolver dudas y afinar cuestiones del análisis.\n",
    "- 23/07/2020: Entrega del práctico. "
   ]
  },
  {
   "cell_type": "markdown",
   "metadata": {},
   "source": [
    "## Importacion de Librerías"
   ]
  },
  {
   "cell_type": "code",
   "execution_count": 27,
   "metadata": {},
   "outputs": [],
   "source": [
    "import pandas as pd\n",
    "\n",
    "#Visualización\n",
    "import matplotlib.pyplot as plt\n",
    "import seaborn as sns"
   ]
  },
  {
   "cell_type": "code",
   "execution_count": 28,
   "metadata": {},
   "outputs": [
    {
     "name": "stderr",
     "output_type": "stream",
     "text": [
      "/home/jfrau/anaconda3/lib/python3.7/site-packages/ipykernel_launcher.py:2: FutureWarning: Passing a negative integer is deprecated in version 1.0 and will not be supported in future version. Instead, use None to not limit the column width.\n",
      "  \n"
     ]
    }
   ],
   "source": [
    "# Para que pandas no trunque aquellas celdas con contenido muy largo (como textos)\n",
    "pd.set_option('display.max_colwidth', -1)\n",
    "# Para que pandas no trunque la vista de todas las columnas\n",
    "pd.set_option('display.max_columns', None)\n"
   ]
  },
  {
   "cell_type": "markdown",
   "metadata": {},
   "source": [
    "## Carga de datos"
   ]
  },
  {
   "cell_type": "markdown",
   "metadata": {},
   "source": [
    "Cargamos los datasets de cada uno de los indicadores a predecir. Los mismos pueden descargarse del siguiente [link](https://drive.google.com/drive/folders/1NVxgmk_pED1FtnqWl_M4-2vRPiyd6Pri?usp=sharing)."
   ]
  },
  {
   "cell_type": "code",
   "execution_count": 17,
   "metadata": {},
   "outputs": [],
   "source": [
    "education = pd.read_csv('educacion_mercosur_cleaned.csv')\n",
    "gender = pd.read_csv('gender_mercosur_cleaned.csv')\n",
    "environment = pd.read_csv('environment_mercosur_cleaned.csv')\n",
    "health = pd.read_csv('health_mercosur_cleaned.csv')\n",
    "poverty = pd.read_csv('poverty_mercosur_cleaned.csv')\n",
    "social_protection = pd.read_csv('socialprotection_mercosur_cleaned.csv')"
   ]
  },
  {
   "cell_type": "markdown",
   "metadata": {},
   "source": [
    "Veamos por ejemplo las primeras filas del dataset de Educación..."
   ]
  },
  {
   "cell_type": "code",
   "execution_count": 18,
   "metadata": {},
   "outputs": [
    {
     "data": {
      "text/html": [
       "<div>\n",
       "<style scoped>\n",
       "    .dataframe tbody tr th:only-of-type {\n",
       "        vertical-align: middle;\n",
       "    }\n",
       "\n",
       "    .dataframe tbody tr th {\n",
       "        vertical-align: top;\n",
       "    }\n",
       "\n",
       "    .dataframe thead th {\n",
       "        text-align: right;\n",
       "    }\n",
       "</style>\n",
       "<table border=\"1\" class=\"dataframe\">\n",
       "  <thead>\n",
       "    <tr style=\"text-align: right;\">\n",
       "      <th></th>\n",
       "      <th>Unnamed: 0</th>\n",
       "      <th>Indicator</th>\n",
       "      <th>Country Name</th>\n",
       "      <th>Country Code</th>\n",
       "      <th>Indicator Code</th>\n",
       "      <th>1970.0</th>\n",
       "      <th>1971.0</th>\n",
       "      <th>1972.0</th>\n",
       "      <th>1973.0</th>\n",
       "      <th>1974.0</th>\n",
       "      <th>1975.0</th>\n",
       "      <th>1976.0</th>\n",
       "      <th>1977.0</th>\n",
       "      <th>1978.0</th>\n",
       "      <th>1979.0</th>\n",
       "      <th>1980.0</th>\n",
       "      <th>1981.0</th>\n",
       "      <th>1982.0</th>\n",
       "      <th>1983.0</th>\n",
       "      <th>1984.0</th>\n",
       "      <th>1985.0</th>\n",
       "      <th>1986.0</th>\n",
       "      <th>1987.0</th>\n",
       "      <th>1988.0</th>\n",
       "      <th>1989.0</th>\n",
       "      <th>1990.0</th>\n",
       "      <th>1991.0</th>\n",
       "      <th>1992.0</th>\n",
       "      <th>1993.0</th>\n",
       "      <th>1994.0</th>\n",
       "      <th>1995.0</th>\n",
       "      <th>1996.0</th>\n",
       "      <th>1997.0</th>\n",
       "      <th>1998.0</th>\n",
       "      <th>1999.0</th>\n",
       "      <th>2000.0</th>\n",
       "      <th>2001.0</th>\n",
       "      <th>2002.0</th>\n",
       "      <th>2003.0</th>\n",
       "      <th>2004.0</th>\n",
       "      <th>2005.0</th>\n",
       "      <th>2006.0</th>\n",
       "      <th>2007.0</th>\n",
       "      <th>2008.0</th>\n",
       "      <th>2009.0</th>\n",
       "      <th>2010.0</th>\n",
       "      <th>2011.0</th>\n",
       "      <th>2012.0</th>\n",
       "      <th>2013.0</th>\n",
       "      <th>2014.0</th>\n",
       "      <th>2015.0</th>\n",
       "      <th>2016.0</th>\n",
       "      <th>2017.0</th>\n",
       "      <th>2018.0</th>\n",
       "      <th>2019.0</th>\n",
       "    </tr>\n",
       "  </thead>\n",
       "  <tbody>\n",
       "    <tr>\n",
       "      <th>0</th>\n",
       "      <td>Población entre 15 y 64 años de edad (% del total)</td>\n",
       "      <td>Education</td>\n",
       "      <td>Argentina</td>\n",
       "      <td>ARG</td>\n",
       "      <td>SP.POP.1564.TO.ZS</td>\n",
       "      <td>63.615666</td>\n",
       "      <td>63.527827</td>\n",
       "      <td>63.427855</td>\n",
       "      <td>63.313371</td>\n",
       "      <td>63.178718</td>\n",
       "      <td>63.018152</td>\n",
       "      <td>62.720914</td>\n",
       "      <td>62.388615</td>\n",
       "      <td>62.045511</td>\n",
       "      <td>61.730744</td>\n",
       "      <td>61.466255</td>\n",
       "      <td>61.12062</td>\n",
       "      <td>60.912521</td>\n",
       "      <td>60.785426</td>\n",
       "      <td>60.665943</td>\n",
       "      <td>60.525325</td>\n",
       "      <td>60.484758</td>\n",
       "      <td>60.371057</td>\n",
       "      <td>60.250572</td>\n",
       "      <td>60.213212</td>\n",
       "      <td>60.291595</td>\n",
       "      <td>60.288866</td>\n",
       "      <td>60.405903</td>\n",
       "      <td>60.599449</td>\n",
       "      <td>60.802085</td>\n",
       "      <td>60.983193</td>\n",
       "      <td>61.135755</td>\n",
       "      <td>61.291539</td>\n",
       "      <td>61.449641</td>\n",
       "      <td>61.620577</td>\n",
       "      <td>61.809169</td>\n",
       "      <td>62.020439</td>\n",
       "      <td>62.213434</td>\n",
       "      <td>62.402149</td>\n",
       "      <td>62.605267</td>\n",
       "      <td>62.828610</td>\n",
       "      <td>62.992290</td>\n",
       "      <td>63.199787</td>\n",
       "      <td>63.423789</td>\n",
       "      <td>63.621335</td>\n",
       "      <td>63.769017</td>\n",
       "      <td>63.880723</td>\n",
       "      <td>63.947129</td>\n",
       "      <td>63.982692</td>\n",
       "      <td>64.015470</td>\n",
       "      <td>64.060020</td>\n",
       "      <td>64.060567</td>\n",
       "      <td>64.083523</td>\n",
       "      <td>64.121277</td>\n",
       "      <td>NaN</td>\n",
       "    </tr>\n",
       "    <tr>\n",
       "      <th>1</th>\n",
       "      <td>Población entre 0 y 14 años de edad (% del total)</td>\n",
       "      <td>Education</td>\n",
       "      <td>Argentina</td>\n",
       "      <td>ARG</td>\n",
       "      <td>SP.POP.0014.TO.ZS</td>\n",
       "      <td>29.438848</td>\n",
       "      <td>29.380490</td>\n",
       "      <td>29.347396</td>\n",
       "      <td>29.339782</td>\n",
       "      <td>29.361379</td>\n",
       "      <td>29.416802</td>\n",
       "      <td>29.581319</td>\n",
       "      <td>29.793933</td>\n",
       "      <td>30.028849</td>\n",
       "      <td>30.244546</td>\n",
       "      <td>30.416247</td>\n",
       "      <td>30.68159</td>\n",
       "      <td>30.809384</td>\n",
       "      <td>30.857175</td>\n",
       "      <td>30.901551</td>\n",
       "      <td>30.971679</td>\n",
       "      <td>30.905310</td>\n",
       "      <td>30.933192</td>\n",
       "      <td>30.979771</td>\n",
       "      <td>30.943174</td>\n",
       "      <td>30.786013</td>\n",
       "      <td>30.679114</td>\n",
       "      <td>30.452348</td>\n",
       "      <td>30.153352</td>\n",
       "      <td>29.857655</td>\n",
       "      <td>29.598630</td>\n",
       "      <td>29.356889</td>\n",
       "      <td>29.125647</td>\n",
       "      <td>28.905752</td>\n",
       "      <td>28.686628</td>\n",
       "      <td>28.462194</td>\n",
       "      <td>28.197937</td>\n",
       "      <td>27.971353</td>\n",
       "      <td>27.759564</td>\n",
       "      <td>27.533237</td>\n",
       "      <td>27.280011</td>\n",
       "      <td>27.065701</td>\n",
       "      <td>26.804888</td>\n",
       "      <td>26.522332</td>\n",
       "      <td>26.258970</td>\n",
       "      <td>26.035958</td>\n",
       "      <td>25.822270</td>\n",
       "      <td>25.651857</td>\n",
       "      <td>25.509966</td>\n",
       "      <td>25.368129</td>\n",
       "      <td>25.211165</td>\n",
       "      <td>25.079456</td>\n",
       "      <td>24.926770</td>\n",
       "      <td>24.760934</td>\n",
       "      <td>NaN</td>\n",
       "    </tr>\n",
       "  </tbody>\n",
       "</table>\n",
       "</div>"
      ],
      "text/plain": [
       "                                           Unnamed: 0  Indicator Country Name  \\\n",
       "0  Población entre 15 y 64 años de edad (% del total)  Education  Argentina     \n",
       "1  Población entre 0 y 14 años de edad (% del total)   Education  Argentina     \n",
       "\n",
       "  Country Code     Indicator Code     1970.0     1971.0     1972.0     1973.0  \\\n",
       "0  ARG          SP.POP.1564.TO.ZS  63.615666  63.527827  63.427855  63.313371   \n",
       "1  ARG          SP.POP.0014.TO.ZS  29.438848  29.380490  29.347396  29.339782   \n",
       "\n",
       "      1974.0     1975.0     1976.0     1977.0     1978.0     1979.0  \\\n",
       "0  63.178718  63.018152  62.720914  62.388615  62.045511  61.730744   \n",
       "1  29.361379  29.416802  29.581319  29.793933  30.028849  30.244546   \n",
       "\n",
       "      1980.0    1981.0     1982.0     1983.0     1984.0     1985.0     1986.0  \\\n",
       "0  61.466255  61.12062  60.912521  60.785426  60.665943  60.525325  60.484758   \n",
       "1  30.416247  30.68159  30.809384  30.857175  30.901551  30.971679  30.905310   \n",
       "\n",
       "      1987.0     1988.0     1989.0     1990.0     1991.0     1992.0  \\\n",
       "0  60.371057  60.250572  60.213212  60.291595  60.288866  60.405903   \n",
       "1  30.933192  30.979771  30.943174  30.786013  30.679114  30.452348   \n",
       "\n",
       "      1993.0     1994.0     1995.0     1996.0     1997.0     1998.0  \\\n",
       "0  60.599449  60.802085  60.983193  61.135755  61.291539  61.449641   \n",
       "1  30.153352  29.857655  29.598630  29.356889  29.125647  28.905752   \n",
       "\n",
       "      1999.0     2000.0     2001.0     2002.0     2003.0     2004.0  \\\n",
       "0  61.620577  61.809169  62.020439  62.213434  62.402149  62.605267   \n",
       "1  28.686628  28.462194  28.197937  27.971353  27.759564  27.533237   \n",
       "\n",
       "      2005.0     2006.0     2007.0     2008.0     2009.0     2010.0  \\\n",
       "0  62.828610  62.992290  63.199787  63.423789  63.621335  63.769017   \n",
       "1  27.280011  27.065701  26.804888  26.522332  26.258970  26.035958   \n",
       "\n",
       "      2011.0     2012.0     2013.0     2014.0     2015.0     2016.0  \\\n",
       "0  63.880723  63.947129  63.982692  64.015470  64.060020  64.060567   \n",
       "1  25.822270  25.651857  25.509966  25.368129  25.211165  25.079456   \n",
       "\n",
       "      2017.0     2018.0  2019.0  \n",
       "0  64.083523  64.121277 NaN      \n",
       "1  24.926770  24.760934 NaN      "
      ]
     },
     "execution_count": 18,
     "metadata": {},
     "output_type": "execute_result"
    }
   ],
   "source": [
    "education.head(2)"
   ]
  },
  {
   "cell_type": "markdown",
   "metadata": {},
   "source": [
    "Como observamos, por cuestiones referidas al guardado del csv la primera columna no posee ningún nombre. La renombramos como ***Features*** en todos los datasets."
   ]
  },
  {
   "cell_type": "code",
   "execution_count": 19,
   "metadata": {},
   "outputs": [],
   "source": [
    "#Corección del nombre de la primera columna\n",
    "education = education.rename(columns={\"Unnamed: 0\": \"Features\"})\n",
    "gender = gender.rename(columns={\"Unnamed: 0\": \"Features\"})\n",
    "environment = environment.rename(columns={\"Unnamed: 0\": \"Features\"})\n",
    "health = health.rename(columns={\"Unnamed: 0\": \"Features\"})\n",
    "poverty = poverty.rename(columns={\"Unnamed: 0\": \"Features\"})\n",
    "social_protection = social_protection.rename(columns={\"Unnamed: 0\": \"Features\"})"
   ]
  },
  {
   "cell_type": "markdown",
   "metadata": {},
   "source": [
    "Por último veamos las dimensiones de cada uno de los datasets considerados:"
   ]
  },
  {
   "cell_type": "code",
   "execution_count": 20,
   "metadata": {},
   "outputs": [
    {
     "name": "stdout",
     "output_type": "stream",
     "text": [
      "Dimensiones de los datasets: \n",
      " Educación: (1272, 55) \n",
      " Género: (996, 55) \n",
      " Medio Ambiente: (912, 55) \n",
      " Salud: (1344, 55) \n",
      " Pobreza: (180, 55) \n",
      " Protección Social: (1116, 55)\n"
     ]
    }
   ],
   "source": [
    "print('Dimensiones de los datasets: \\n',\n",
    "      'Educación:',education.shape, '\\n', \n",
    "      'Género:',gender.shape,'\\n',\n",
    "     'Medio Ambiente:', environment.shape, '\\n',\n",
    "     'Salud:', health.shape, '\\n',\n",
    "      'Pobreza:',poverty.shape, '\\n',\n",
    "      'Protección Social:',social_protection.shape)"
   ]
  },
  {
   "cell_type": "markdown",
   "metadata": {},
   "source": [
    "## Metadata"
   ]
  },
  {
   "cell_type": "markdown",
   "metadata": {},
   "source": [
    "Cargamos ahora la metadata de cada una de las variables para cada indicador. La misma puede descargarse desde el siguiente [link](https://drive.google.com/drive/folders/11QPQHD_hxeMZZ-VH9ppM9KXL46HRxSjy?usp=sharing).\n",
    "\n",
    "La metadata es una explicación breve sobre el significado de cada variable y la fuente de datos, en criollo podríamos decir que básicamente es un \"Diccionario de datos\". Estos datos deben ser tomados de consulta y para dar sentido a los valores o información hallada."
   ]
  },
  {
   "cell_type": "code",
   "execution_count": 21,
   "metadata": {},
   "outputs": [],
   "source": [
    "metadata_education = pd.read_csv('metadata_education.csv')\n",
    "metadata_gender = pd.read_csv('metadata_gender.csv')\n",
    "metadata_environment = pd.read_csv('metadata_environment.csv')\n",
    "metadata_health = pd.read_csv('metadata_health.csv')\n",
    "metadata_poverty = pd.read_csv('metadata_poverty.csv')\n",
    "metadata_socialprotection = pd.read_csv('metadata_socialprotection.csv')"
   ]
  },
  {
   "cell_type": "markdown",
   "metadata": {},
   "source": [
    "Inspeccionemos un poco de que se trata..."
   ]
  },
  {
   "cell_type": "code",
   "execution_count": 22,
   "metadata": {},
   "outputs": [
    {
     "data": {
      "text/html": [
       "<div>\n",
       "<style scoped>\n",
       "    .dataframe tbody tr th:only-of-type {\n",
       "        vertical-align: middle;\n",
       "    }\n",
       "\n",
       "    .dataframe tbody tr th {\n",
       "        vertical-align: top;\n",
       "    }\n",
       "\n",
       "    .dataframe thead th {\n",
       "        text-align: right;\n",
       "    }\n",
       "</style>\n",
       "<table border=\"1\" class=\"dataframe\">\n",
       "  <thead>\n",
       "    <tr style=\"text-align: right;\">\n",
       "      <th></th>\n",
       "      <th>Unnamed: 0</th>\n",
       "      <th>INDICATOR_CODE</th>\n",
       "      <th>INDICATOR_NAME</th>\n",
       "      <th>SOURCE_NOTE</th>\n",
       "      <th>SOURCE_ORGANIZATION</th>\n",
       "    </tr>\n",
       "  </thead>\n",
       "  <tbody>\n",
       "    <tr>\n",
       "      <th>209</th>\n",
       "      <td>209</td>\n",
       "      <td>SH.HIV.1524.FE.ZS</td>\n",
       "      <td>Prevalencia de VIH, mujeres (% entre 15 y 24 años de edad)</td>\n",
       "      <td>La prevalencia de VIH es el porcentaje de personas infectadas con VIH. Las tasas de jóvenes son un porcentaje del grupo etario correspondiente.</td>\n",
       "      <td>ONUSIDA estima.</td>\n",
       "    </tr>\n",
       "    <tr>\n",
       "      <th>196</th>\n",
       "      <td>196</td>\n",
       "      <td>SH.MED.NUMW.P3</td>\n",
       "      <td>Enfermeras y parteras (por cada 1.000 personas)</td>\n",
       "      <td>Las enfermeras y parteras incluyen a las enfermeras profesionales, las parteras profesionales, las enfermeras auxiliares, las parteras auxiliares, las enfermeras inscriptas, las parteras inscriptas y demás personal relacionado, como las enfermeras dentales y las de atención primaria.</td>\n",
       "      <td>Organización Mundial de la Salud, Atlas mundial de la fuerza laboral sanitaria. Para ver actualizaciones y metadatos, visite: http://apps.who.int/globalatlas/.</td>\n",
       "    </tr>\n",
       "  </tbody>\n",
       "</table>\n",
       "</div>"
      ],
      "text/plain": [
       "     Unnamed: 0     INDICATOR_CODE  \\\n",
       "209  209         SH.HIV.1524.FE.ZS   \n",
       "196  196         SH.MED.NUMW.P3      \n",
       "\n",
       "                                                 INDICATOR_NAME  \\\n",
       "209  Prevalencia de VIH, mujeres (% entre 15 y 24 años de edad)   \n",
       "196  Enfermeras y parteras (por cada 1.000 personas)              \n",
       "\n",
       "                                                                                                                                                                                                                                                                                      SOURCE_NOTE  \\\n",
       "209  La prevalencia de VIH es el porcentaje de personas infectadas con VIH. Las tasas de jóvenes son un porcentaje del grupo etario correspondiente.                                                                                                                                                \n",
       "196  Las enfermeras y parteras incluyen a las enfermeras profesionales, las parteras profesionales, las enfermeras auxiliares, las parteras auxiliares, las enfermeras inscriptas, las parteras inscriptas y demás personal relacionado, como las enfermeras dentales y las de atención primaria.   \n",
       "\n",
       "                                                                                                                                                 SOURCE_ORGANIZATION  \n",
       "209  ONUSIDA estima.                                                                                                                                                  \n",
       "196  Organización Mundial de la Salud, Atlas mundial de la fuerza laboral sanitaria. Para ver actualizaciones y metadatos, visite: http://apps.who.int/globalatlas/.  "
      ]
     },
     "execution_count": 22,
     "metadata": {},
     "output_type": "execute_result"
    }
   ],
   "source": [
    "metadata_health.sample(2)"
   ]
  },
  {
   "cell_type": "markdown",
   "metadata": {},
   "source": [
    "Como observamos el punto en común entre la metadata y los conjuntos de datos es a través de las columnas **INDICATOR_CODE** e **INDICATOR_NAME**."
   ]
  },
  {
   "cell_type": "markdown",
   "metadata": {},
   "source": [
    "## Construcción de un único dataset"
   ]
  },
  {
   "cell_type": "markdown",
   "metadata": {},
   "source": [
    "Dado que dependiendo el análisis muchas veces será conveniente tener toda la información condensada en un solo lugar construimos un dataset con toda la info."
   ]
  },
  {
   "cell_type": "code",
   "execution_count": 23,
   "metadata": {},
   "outputs": [
    {
     "data": {
      "text/plain": [
       "(5820, 55)"
      ]
     },
     "execution_count": 23,
     "metadata": {},
     "output_type": "execute_result"
    }
   ],
   "source": [
    "dataset =pd.concat([education, gender, environment, health, poverty, social_protection])\n",
    "dataset.shape"
   ]
  },
  {
   "cell_type": "code",
   "execution_count": 24,
   "metadata": {},
   "outputs": [
    {
     "data": {
      "text/plain": [
       "Index(['Features', 'Indicator', 'Country Name', 'Country Code',\n",
       "       'Indicator Code', '1970.0', '1971.0', '1972.0', '1973.0', '1974.0',\n",
       "       '1975.0', '1976.0', '1977.0', '1978.0', '1979.0', '1980.0', '1981.0',\n",
       "       '1982.0', '1983.0', '1984.0', '1985.0', '1986.0', '1987.0', '1988.0',\n",
       "       '1989.0', '1990.0', '1991.0', '1992.0', '1993.0', '1994.0', '1995.0',\n",
       "       '1996.0', '1997.0', '1998.0', '1999.0', '2000.0', '2001.0', '2002.0',\n",
       "       '2003.0', '2004.0', '2005.0', '2006.0', '2007.0', '2008.0', '2009.0',\n",
       "       '2010.0', '2011.0', '2012.0', '2013.0', '2014.0', '2015.0', '2016.0',\n",
       "       '2017.0', '2018.0', '2019.0'],\n",
       "      dtype='object')"
      ]
     },
     "execution_count": 24,
     "metadata": {},
     "output_type": "execute_result"
    }
   ],
   "source": [
    "dataset.columns"
   ]
  },
  {
   "cell_type": "code",
   "execution_count": 25,
   "metadata": {},
   "outputs": [
    {
     "data": {
      "text/html": [
       "<div>\n",
       "<style scoped>\n",
       "    .dataframe tbody tr th:only-of-type {\n",
       "        vertical-align: middle;\n",
       "    }\n",
       "\n",
       "    .dataframe tbody tr th {\n",
       "        vertical-align: top;\n",
       "    }\n",
       "\n",
       "    .dataframe thead th {\n",
       "        text-align: right;\n",
       "    }\n",
       "</style>\n",
       "<table border=\"1\" class=\"dataframe\">\n",
       "  <thead>\n",
       "    <tr style=\"text-align: right;\">\n",
       "      <th></th>\n",
       "      <th>Features</th>\n",
       "      <th>Indicator</th>\n",
       "      <th>Country Name</th>\n",
       "      <th>Country Code</th>\n",
       "      <th>Indicator Code</th>\n",
       "      <th>1970.0</th>\n",
       "      <th>1971.0</th>\n",
       "      <th>1972.0</th>\n",
       "      <th>1973.0</th>\n",
       "      <th>1974.0</th>\n",
       "      <th>1975.0</th>\n",
       "      <th>1976.0</th>\n",
       "      <th>1977.0</th>\n",
       "      <th>1978.0</th>\n",
       "      <th>1979.0</th>\n",
       "      <th>1980.0</th>\n",
       "      <th>1981.0</th>\n",
       "      <th>1982.0</th>\n",
       "      <th>1983.0</th>\n",
       "      <th>1984.0</th>\n",
       "      <th>1985.0</th>\n",
       "      <th>1986.0</th>\n",
       "      <th>1987.0</th>\n",
       "      <th>1988.0</th>\n",
       "      <th>1989.0</th>\n",
       "      <th>1990.0</th>\n",
       "      <th>1991.0</th>\n",
       "      <th>1992.0</th>\n",
       "      <th>1993.0</th>\n",
       "      <th>1994.0</th>\n",
       "      <th>1995.0</th>\n",
       "      <th>1996.0</th>\n",
       "      <th>1997.0</th>\n",
       "      <th>1998.0</th>\n",
       "      <th>1999.0</th>\n",
       "      <th>2000.0</th>\n",
       "      <th>2001.0</th>\n",
       "      <th>2002.0</th>\n",
       "      <th>2003.0</th>\n",
       "      <th>2004.0</th>\n",
       "      <th>2005.0</th>\n",
       "      <th>2006.0</th>\n",
       "      <th>2007.0</th>\n",
       "      <th>2008.0</th>\n",
       "      <th>2009.0</th>\n",
       "      <th>2010.0</th>\n",
       "      <th>2011.0</th>\n",
       "      <th>2012.0</th>\n",
       "      <th>2013.0</th>\n",
       "      <th>2014.0</th>\n",
       "      <th>2015.0</th>\n",
       "      <th>2016.0</th>\n",
       "      <th>2017.0</th>\n",
       "      <th>2018.0</th>\n",
       "      <th>2019.0</th>\n",
       "    </tr>\n",
       "  </thead>\n",
       "  <tbody>\n",
       "    <tr>\n",
       "      <th>0</th>\n",
       "      <td>Población entre 15 y 64 años de edad (% del total)</td>\n",
       "      <td>Education</td>\n",
       "      <td>Argentina</td>\n",
       "      <td>ARG</td>\n",
       "      <td>SP.POP.1564.TO.ZS</td>\n",
       "      <td>63.615666</td>\n",
       "      <td>63.527827</td>\n",
       "      <td>63.427855</td>\n",
       "      <td>63.313371</td>\n",
       "      <td>63.178718</td>\n",
       "      <td>63.018152</td>\n",
       "      <td>62.720914</td>\n",
       "      <td>62.388615</td>\n",
       "      <td>62.045511</td>\n",
       "      <td>61.730744</td>\n",
       "      <td>61.466255</td>\n",
       "      <td>61.12062</td>\n",
       "      <td>60.912521</td>\n",
       "      <td>60.785426</td>\n",
       "      <td>60.665943</td>\n",
       "      <td>60.525325</td>\n",
       "      <td>60.484758</td>\n",
       "      <td>60.371057</td>\n",
       "      <td>60.250572</td>\n",
       "      <td>60.213212</td>\n",
       "      <td>60.291595</td>\n",
       "      <td>60.288866</td>\n",
       "      <td>60.405903</td>\n",
       "      <td>60.599449</td>\n",
       "      <td>60.802085</td>\n",
       "      <td>60.983193</td>\n",
       "      <td>61.135755</td>\n",
       "      <td>61.291539</td>\n",
       "      <td>61.449641</td>\n",
       "      <td>61.620577</td>\n",
       "      <td>61.809169</td>\n",
       "      <td>62.020439</td>\n",
       "      <td>62.213434</td>\n",
       "      <td>62.402149</td>\n",
       "      <td>62.605267</td>\n",
       "      <td>62.828610</td>\n",
       "      <td>62.992290</td>\n",
       "      <td>63.199787</td>\n",
       "      <td>63.423789</td>\n",
       "      <td>63.621335</td>\n",
       "      <td>63.769017</td>\n",
       "      <td>63.880723</td>\n",
       "      <td>63.947129</td>\n",
       "      <td>63.982692</td>\n",
       "      <td>64.015470</td>\n",
       "      <td>64.060020</td>\n",
       "      <td>64.060567</td>\n",
       "      <td>64.083523</td>\n",
       "      <td>64.121277</td>\n",
       "      <td>NaN</td>\n",
       "    </tr>\n",
       "    <tr>\n",
       "      <th>1</th>\n",
       "      <td>Población entre 0 y 14 años de edad (% del total)</td>\n",
       "      <td>Education</td>\n",
       "      <td>Argentina</td>\n",
       "      <td>ARG</td>\n",
       "      <td>SP.POP.0014.TO.ZS</td>\n",
       "      <td>29.438848</td>\n",
       "      <td>29.380490</td>\n",
       "      <td>29.347396</td>\n",
       "      <td>29.339782</td>\n",
       "      <td>29.361379</td>\n",
       "      <td>29.416802</td>\n",
       "      <td>29.581319</td>\n",
       "      <td>29.793933</td>\n",
       "      <td>30.028849</td>\n",
       "      <td>30.244546</td>\n",
       "      <td>30.416247</td>\n",
       "      <td>30.68159</td>\n",
       "      <td>30.809384</td>\n",
       "      <td>30.857175</td>\n",
       "      <td>30.901551</td>\n",
       "      <td>30.971679</td>\n",
       "      <td>30.905310</td>\n",
       "      <td>30.933192</td>\n",
       "      <td>30.979771</td>\n",
       "      <td>30.943174</td>\n",
       "      <td>30.786013</td>\n",
       "      <td>30.679114</td>\n",
       "      <td>30.452348</td>\n",
       "      <td>30.153352</td>\n",
       "      <td>29.857655</td>\n",
       "      <td>29.598630</td>\n",
       "      <td>29.356889</td>\n",
       "      <td>29.125647</td>\n",
       "      <td>28.905752</td>\n",
       "      <td>28.686628</td>\n",
       "      <td>28.462194</td>\n",
       "      <td>28.197937</td>\n",
       "      <td>27.971353</td>\n",
       "      <td>27.759564</td>\n",
       "      <td>27.533237</td>\n",
       "      <td>27.280011</td>\n",
       "      <td>27.065701</td>\n",
       "      <td>26.804888</td>\n",
       "      <td>26.522332</td>\n",
       "      <td>26.258970</td>\n",
       "      <td>26.035958</td>\n",
       "      <td>25.822270</td>\n",
       "      <td>25.651857</td>\n",
       "      <td>25.509966</td>\n",
       "      <td>25.368129</td>\n",
       "      <td>25.211165</td>\n",
       "      <td>25.079456</td>\n",
       "      <td>24.926770</td>\n",
       "      <td>24.760934</td>\n",
       "      <td>NaN</td>\n",
       "    </tr>\n",
       "    <tr>\n",
       "      <th>2</th>\n",
       "      <td>Desempleo, total (% de la población activa total) (estimación modelado OIT)</td>\n",
       "      <td>Education</td>\n",
       "      <td>Argentina</td>\n",
       "      <td>ARG</td>\n",
       "      <td>SL.UEM.TOTL.ZS</td>\n",
       "      <td>NaN</td>\n",
       "      <td>NaN</td>\n",
       "      <td>NaN</td>\n",
       "      <td>NaN</td>\n",
       "      <td>NaN</td>\n",
       "      <td>NaN</td>\n",
       "      <td>NaN</td>\n",
       "      <td>NaN</td>\n",
       "      <td>NaN</td>\n",
       "      <td>NaN</td>\n",
       "      <td>NaN</td>\n",
       "      <td>NaN</td>\n",
       "      <td>NaN</td>\n",
       "      <td>NaN</td>\n",
       "      <td>NaN</td>\n",
       "      <td>NaN</td>\n",
       "      <td>NaN</td>\n",
       "      <td>NaN</td>\n",
       "      <td>NaN</td>\n",
       "      <td>NaN</td>\n",
       "      <td>NaN</td>\n",
       "      <td>5.440000</td>\n",
       "      <td>6.360000</td>\n",
       "      <td>10.100000</td>\n",
       "      <td>11.760000</td>\n",
       "      <td>18.799999</td>\n",
       "      <td>17.110001</td>\n",
       "      <td>14.820000</td>\n",
       "      <td>12.650000</td>\n",
       "      <td>14.050000</td>\n",
       "      <td>15.000000</td>\n",
       "      <td>17.320000</td>\n",
       "      <td>19.590000</td>\n",
       "      <td>15.360000</td>\n",
       "      <td>13.522000</td>\n",
       "      <td>11.506000</td>\n",
       "      <td>10.077000</td>\n",
       "      <td>8.470000</td>\n",
       "      <td>7.837000</td>\n",
       "      <td>8.645000</td>\n",
       "      <td>7.714000</td>\n",
       "      <td>7.180000</td>\n",
       "      <td>7.217000</td>\n",
       "      <td>7.100000</td>\n",
       "      <td>7.268000</td>\n",
       "      <td>7.750000</td>\n",
       "      <td>7.977000</td>\n",
       "      <td>8.347000</td>\n",
       "      <td>9.220000</td>\n",
       "      <td>9.789</td>\n",
       "    </tr>\n",
       "  </tbody>\n",
       "</table>\n",
       "</div>"
      ],
      "text/plain": [
       "                                                                      Features  \\\n",
       "0  Población entre 15 y 64 años de edad (% del total)                            \n",
       "1  Población entre 0 y 14 años de edad (% del total)                             \n",
       "2  Desempleo, total (% de la población activa total) (estimación modelado OIT)   \n",
       "\n",
       "   Indicator Country Name Country Code     Indicator Code     1970.0  \\\n",
       "0  Education  Argentina    ARG          SP.POP.1564.TO.ZS  63.615666   \n",
       "1  Education  Argentina    ARG          SP.POP.0014.TO.ZS  29.438848   \n",
       "2  Education  Argentina    ARG          SL.UEM.TOTL.ZS    NaN          \n",
       "\n",
       "      1971.0     1972.0     1973.0     1974.0     1975.0     1976.0  \\\n",
       "0  63.527827  63.427855  63.313371  63.178718  63.018152  62.720914   \n",
       "1  29.380490  29.347396  29.339782  29.361379  29.416802  29.581319   \n",
       "2 NaN        NaN        NaN        NaN        NaN        NaN          \n",
       "\n",
       "      1977.0     1978.0     1979.0     1980.0    1981.0     1982.0     1983.0  \\\n",
       "0  62.388615  62.045511  61.730744  61.466255  61.12062  60.912521  60.785426   \n",
       "1  29.793933  30.028849  30.244546  30.416247  30.68159  30.809384  30.857175   \n",
       "2 NaN        NaN        NaN        NaN        NaN       NaN        NaN          \n",
       "\n",
       "      1984.0     1985.0     1986.0     1987.0     1988.0     1989.0  \\\n",
       "0  60.665943  60.525325  60.484758  60.371057  60.250572  60.213212   \n",
       "1  30.901551  30.971679  30.905310  30.933192  30.979771  30.943174   \n",
       "2 NaN        NaN        NaN        NaN        NaN        NaN          \n",
       "\n",
       "      1990.0     1991.0     1992.0     1993.0     1994.0     1995.0  \\\n",
       "0  60.291595  60.288866  60.405903  60.599449  60.802085  60.983193   \n",
       "1  30.786013  30.679114  30.452348  30.153352  29.857655  29.598630   \n",
       "2 NaN         5.440000   6.360000   10.100000  11.760000  18.799999   \n",
       "\n",
       "      1996.0     1997.0     1998.0     1999.0     2000.0     2001.0  \\\n",
       "0  61.135755  61.291539  61.449641  61.620577  61.809169  62.020439   \n",
       "1  29.356889  29.125647  28.905752  28.686628  28.462194  28.197937   \n",
       "2  17.110001  14.820000  12.650000  14.050000  15.000000  17.320000   \n",
       "\n",
       "      2002.0     2003.0     2004.0     2005.0     2006.0     2007.0  \\\n",
       "0  62.213434  62.402149  62.605267  62.828610  62.992290  63.199787   \n",
       "1  27.971353  27.759564  27.533237  27.280011  27.065701  26.804888   \n",
       "2  19.590000  15.360000  13.522000  11.506000  10.077000  8.470000    \n",
       "\n",
       "      2008.0     2009.0     2010.0     2011.0     2012.0     2013.0  \\\n",
       "0  63.423789  63.621335  63.769017  63.880723  63.947129  63.982692   \n",
       "1  26.522332  26.258970  26.035958  25.822270  25.651857  25.509966   \n",
       "2  7.837000   8.645000   7.714000   7.180000   7.217000   7.100000    \n",
       "\n",
       "      2014.0     2015.0     2016.0     2017.0     2018.0  2019.0  \n",
       "0  64.015470  64.060020  64.060567  64.083523  64.121277 NaN      \n",
       "1  25.368129  25.211165  25.079456  24.926770  24.760934 NaN      \n",
       "2  7.268000   7.750000   7.977000   8.347000   9.220000   9.789   "
      ]
     },
     "execution_count": 25,
     "metadata": {},
     "output_type": "execute_result"
    }
   ],
   "source": [
    "dataset.head(3)"
   ]
  },
  {
   "cell_type": "code",
   "execution_count": 26,
   "metadata": {},
   "outputs": [
    {
     "data": {
      "text/plain": [
       "array(['Argentina', 'Brasil', 'Paraguay', 'Uruguay', 'Venezuela',\n",
       "       'Bolivia', 'Chile', 'Colombia', 'Ecuador', 'Guyana', 'Perú',\n",
       "       'Suriname'], dtype=object)"
      ]
     },
     "execution_count": 26,
     "metadata": {},
     "output_type": "execute_result"
    }
   ],
   "source": [
    "dataset['Country Name'].unique()"
   ]
  },
  {
   "cell_type": "code",
   "execution_count": null,
   "metadata": {},
   "outputs": [],
   "source": []
  }
 ],
 "metadata": {
  "kernelspec": {
   "display_name": "Python 3",
   "language": "python",
   "name": "python3"
  },
  "language_info": {
   "codemirror_mode": {
    "name": "ipython",
    "version": 3
   },
   "file_extension": ".py",
   "mimetype": "text/x-python",
   "name": "python",
   "nbconvert_exporter": "python",
   "pygments_lexer": "ipython3",
   "version": "3.7.6"
  },
  "toc": {
   "base_numbering": 1,
   "nav_menu": {},
   "number_sections": true,
   "sideBar": true,
   "skip_h1_title": false,
   "title_cell": "Table of Contents",
   "title_sidebar": "Contents",
   "toc_cell": false,
   "toc_position": {
    "height": "calc(100% - 180px)",
    "left": "10px",
    "top": "150px",
    "width": "165px"
   },
   "toc_section_display": true,
   "toc_window_display": true
  }
 },
 "nbformat": 4,
 "nbformat_minor": 2
}
